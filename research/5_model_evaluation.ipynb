{
 "cells": [
  {
   "cell_type": "code",
   "execution_count": null,
   "metadata": {},
   "outputs": [],
   "source": [
    "import os\n",
    "\n",
    "os.environ[\"MLFLOW_TRACKING_URI\"] = \"\"\n",
    "os.environ[\"MLFLOW_TRACKING_USERNAME\"] = \"\"\n",
    "os.environ[\"MLFLOW_TRACKING_PASSWORD\"] = \"\""
   ]
  },
  {
   "cell_type": "code",
   "execution_count": 2,
   "metadata": {},
   "outputs": [
    {
     "data": {
      "text/plain": [
       "'/Users/phuc.buidang/Documents/Learn/Projects/basics_ds_project/research'"
      ]
     },
     "execution_count": 2,
     "metadata": {},
     "output_type": "execute_result"
    }
   ],
   "source": [
    "import os\n",
    "%pwd"
   ]
  },
  {
   "cell_type": "code",
   "execution_count": 3,
   "metadata": {},
   "outputs": [
    {
     "data": {
      "text/plain": [
       "'/Users/phuc.buidang/Documents/Learn/Projects/basics_ds_project'"
      ]
     },
     "execution_count": 3,
     "metadata": {},
     "output_type": "execute_result"
    }
   ],
   "source": [
    "os.chdir(\"../\")\n",
    "%pwd"
   ]
  },
  {
   "cell_type": "code",
   "execution_count": null,
   "metadata": {},
   "outputs": [],
   "source": [
    "from dataclasses import dataclass\n",
    "from pathlib import Path\n",
    "\n",
    "\n",
    "@dataclass\n",
    "class ModelEvaluationConfig:\n",
    "    root_dir: Path\n",
    "    test_data_path: Path\n",
    "    model_path: Path\n",
    "    all_params: dict\n",
    "    metric_file_name: Path\n",
    "    target_column: str\n",
    "    mlflow_uri: str"
   ]
  },
  {
   "cell_type": "code",
   "execution_count": null,
   "metadata": {},
   "outputs": [
    {
     "name": "stderr",
     "output_type": "stream",
     "text": [
      "\u001b[32m2025-04-06 14:40:40.122\u001b[0m | \u001b[34m\u001b[1mDEBUG   \u001b[0m | \u001b[36mipykernel.kernelbase\u001b[0m:\u001b[36mexecute_request\u001b[0m:\u001b[36m802\u001b[0m - \u001b[34m\u001b[1m{'header': {'msg_id': '8064d8e9-aac44a8455b69c00e20d9d8a_53216_54', 'msg_type': 'execute_reply', 'username': 'phuc.buidang', 'session': '8064d8e9-aac44a8455b69c00e20d9d8a', 'date': datetime.datetime(2025, 4, 6, 7, 40, 40, 122592, tzinfo=datetime.timezone.utc), 'version': '5.3'}, 'msg_id': '8064d8e9-aac44a8455b69c00e20d9d8a_53216_54', 'msg_type': 'execute_reply', 'parent_header': {'date': datetime.datetime(2025, 4, 6, 7, 40, 39, 617000, tzinfo=tzutc()), 'msg_id': '301f1c31-8346-44be-92a7-0f2ad3af0a8f', 'msg_type': 'execute_request', 'session': 'c92cbc4b-e122-493e-b0c5-e2419c895b1f', 'username': '921bbd28-62a6-495f-bf76-e99e98a192ba', 'version': '5.2'}, 'content': {'status': 'ok', 'execution_count': 5, 'user_expressions': {}, 'payload': []}, 'metadata': {'started': datetime.datetime(2025, 4, 6, 7, 40, 39, 618196, tzinfo=datetime.timezone.utc), 'dependencies_met': True, 'engine': '6ab67d15-c85c-457a-bb39-0719e8288851', 'status': 'ok'}, 'tracker': <zmq.sugar.tracker.MessageTracker object at 0x103e8a7f0>}\u001b[0m\n"
     ]
    }
   ],
   "source": [
    "from src.datascience.constants import *\n",
    "from src.datascience.utils.common import read_yaml, create_directories, save_json"
   ]
  },
  {
   "cell_type": "code",
   "execution_count": null,
   "metadata": {},
   "outputs": [
    {
     "name": "stderr",
     "output_type": "stream",
     "text": [
      "\u001b[32m2025-04-06 14:40:52.676\u001b[0m | \u001b[34m\u001b[1mDEBUG   \u001b[0m | \u001b[36mipykernel.kernelbase\u001b[0m:\u001b[36mdispatch_shell\u001b[0m:\u001b[36m419\u001b[0m - \u001b[34m\u001b[1m\n",
      "*** MESSAGE TYPE:execute_request***\u001b[0m\n",
      "\u001b[32m2025-04-06 14:40:52.677\u001b[0m | \u001b[34m\u001b[1mDEBUG   \u001b[0m | \u001b[36mipykernel.kernelbase\u001b[0m:\u001b[36mdispatch_shell\u001b[0m:\u001b[36m420\u001b[0m - \u001b[34m\u001b[1m   Content: {'silent': False, 'store_history': True, 'user_expressions': {}, 'allow_stdin': True, 'stop_on_error': False, 'code': 'class ConfigurationManager:\\n    def __init__(\\n        self,\\n        config_filepath = CONFIG_FILE_PATH,\\n        params_filepath = PARAMS_FILE_PATH,\\n        schema_filepath = SCHEMA_FILE_PATH):\\n\\n        self.config = read_yaml(config_filepath)\\n        self.params = read_yaml(params_filepath)\\n        self.schema = read_yaml(schema_filepath)\\n\\n        create_directories([self.config.artifacts_root])\\n\\n    def get_model_evaluation_config(self) -> ModelEvaluationConfig:\\n        config=self.config.model_evaluation\\n        params=self.params.ElasticNet\\n        schema=self.schema.TARGET_COLUMN\\n\\n        create_directories([config.root_dir])\\n\\n        model_evaluation_config=ModelEvaluationConfig(\\n            root_dir=config.root_dir,\\n            test_data_path=config.test_data_path,\\n            model_path = config.model_path,\\n            all_params=params,\\n            metric_file_name = config.metric_file_name,\\n            target_column = schema.name,\\n            mlflow_uri=\"\"\\n\\n\\n        )\\n        return model_evaluation_config\\n'}\n",
      "   --->\n",
      "   \u001b[0m\n",
      "\u001b[32m2025-04-06 14:40:52.677\u001b[0m | \u001b[34m\u001b[1mDEBUG   \u001b[0m | \u001b[36mipykernel.kernelbase\u001b[0m:\u001b[36mdispatch_shell\u001b[0m:\u001b[36m429\u001b[0m - \u001b[34m\u001b[1mexecute_request: {'header': {'date': datetime.datetime(2025, 4, 6, 7, 40, 52, 675000, tzinfo=tzutc()), 'msg_id': '2b4942b5-56d6-4302-8d9f-a1508cb215a1', 'msg_type': 'execute_request', 'session': 'c92cbc4b-e122-493e-b0c5-e2419c895b1f', 'username': '921bbd28-62a6-495f-bf76-e99e98a192ba', 'version': '5.2'}, 'msg_id': '2b4942b5-56d6-4302-8d9f-a1508cb215a1', 'msg_type': 'execute_request', 'parent_header': {}, 'metadata': {'cellId': 'vscode-notebook-cell:/Users/phuc.buidang/Documents/Learn/Projects/basics_ds_project/research/5_model_evaluation.ipynb#W5sZmlsZQ%3D%3D'}, 'content': {'silent': False, 'store_history': True, 'user_expressions': {}, 'allow_stdin': True, 'stop_on_error': False, 'code': 'class ConfigurationManager:\\n    def __init__(\\n        self,\\n        config_filepath = CONFIG_FILE_PATH,\\n        params_filepath = PARAMS_FILE_PATH,\\n        schema_filepath = SCHEMA_FILE_PATH):\\n\\n        self.config = read_yaml(config_filepath)\\n        self.params = read_yaml(params_filepath)\\n        self.schema = read_yaml(schema_filepath)\\n\\n        create_directories([self.config.artifacts_root])\\n\\n    def get_model_evaluation_config(self) -> ModelEvaluationConfig:\\n        config=self.config.model_evaluation\\n        params=self.params.ElasticNet\\n        schema=self.schema.TARGET_COLUMN\\n\\n        create_directories([config.root_dir])\\n\\n        model_evaluation_config=ModelEvaluationConfig(\\n            root_dir=config.root_dir,\\n            test_data_path=config.test_data_path,\\n            model_path = config.model_path,\\n            all_params=params,\\n            metric_file_name = config.metric_file_name,\\n            target_column = schema.name,\\n            mlflow_uri=\"\"\\n\\n\\n        )\\n        return model_evaluation_config\\n'}, 'buffers': []}\u001b[0m\n",
      "\u001b[32m2025-04-06 14:40:52.681\u001b[0m | \u001b[34m\u001b[1mDEBUG   \u001b[0m | \u001b[36mipykernel.kernelbase\u001b[0m:\u001b[36mexecute_request\u001b[0m:\u001b[36m802\u001b[0m - \u001b[34m\u001b[1m{'header': {'msg_id': '8064d8e9-aac44a8455b69c00e20d9d8a_53216_62', 'msg_type': 'execute_reply', 'username': 'phuc.buidang', 'session': '8064d8e9-aac44a8455b69c00e20d9d8a', 'date': datetime.datetime(2025, 4, 6, 7, 40, 52, 681607, tzinfo=datetime.timezone.utc), 'version': '5.3'}, 'msg_id': '8064d8e9-aac44a8455b69c00e20d9d8a_53216_62', 'msg_type': 'execute_reply', 'parent_header': {'date': datetime.datetime(2025, 4, 6, 7, 40, 52, 675000, tzinfo=tzutc()), 'msg_id': '2b4942b5-56d6-4302-8d9f-a1508cb215a1', 'msg_type': 'execute_request', 'session': 'c92cbc4b-e122-493e-b0c5-e2419c895b1f', 'username': '921bbd28-62a6-495f-bf76-e99e98a192ba', 'version': '5.2'}, 'content': {'status': 'ok', 'execution_count': 6, 'user_expressions': {}, 'payload': []}, 'metadata': {'started': datetime.datetime(2025, 4, 6, 7, 40, 52, 678287, tzinfo=datetime.timezone.utc), 'dependencies_met': True, 'engine': '6ab67d15-c85c-457a-bb39-0719e8288851', 'status': 'ok'}, 'tracker': <zmq.sugar.tracker.MessageTracker object at 0x103e8a7f0>}\u001b[0m\n"
     ]
    }
   ],
   "source": [
    "class ConfigurationManager:\n",
    "    def __init__(\n",
    "        self,\n",
    "        config_filepath=CONFIG_FILE_PATH,\n",
    "        params_filepath=PARAMS_FILE_PATH,\n",
    "        schema_filepath=SCHEMA_FILE_PATH,\n",
    "    ):\n",
    "\n",
    "        self.config = read_yaml(config_filepath)\n",
    "        self.params = read_yaml(params_filepath)\n",
    "        self.schema = read_yaml(schema_filepath)\n",
    "\n",
    "        create_directories([self.config.artifacts_root])\n",
    "\n",
    "    def get_model_evaluation_config(self) -> ModelEvaluationConfig:\n",
    "        config = self.config.model_evaluation\n",
    "        params = self.params.ElasticNet\n",
    "        schema = self.schema.TARGET_COLUMN\n",
    "\n",
    "        create_directories([config.root_dir])\n",
    "\n",
    "        model_evaluation_config = ModelEvaluationConfig(\n",
    "            root_dir=config.root_dir,\n",
    "            test_data_path=config.test_data_path,\n",
    "            model_path=config.model_path,\n",
    "            all_params=params,\n",
    "            metric_file_name=config.metric_file_name,\n",
    "            target_column=schema.name,\n",
    "            mlflow_uri=\"\",\n",
    "        )\n",
    "        return model_evaluation_config"
   ]
  },
  {
   "cell_type": "code",
   "execution_count": 7,
   "metadata": {},
   "outputs": [
    {
     "name": "stderr",
     "output_type": "stream",
     "text": [
      "\u001b[32m2025-04-06 14:40:55.148\u001b[0m | \u001b[34m\u001b[1mDEBUG   \u001b[0m | \u001b[36mipykernel.kernelbase\u001b[0m:\u001b[36mdispatch_shell\u001b[0m:\u001b[36m419\u001b[0m - \u001b[34m\u001b[1m\n",
      "*** MESSAGE TYPE:execute_request***\u001b[0m\n",
      "\u001b[32m2025-04-06 14:40:55.148\u001b[0m | \u001b[34m\u001b[1mDEBUG   \u001b[0m | \u001b[36mipykernel.kernelbase\u001b[0m:\u001b[36mdispatch_shell\u001b[0m:\u001b[36m420\u001b[0m - \u001b[34m\u001b[1m   Content: {'silent': False, 'store_history': True, 'user_expressions': {}, 'allow_stdin': True, 'stop_on_error': False, 'code': 'import os\\nimport pandas as pd\\nfrom sklearn.metrics import mean_squared_error, mean_absolute_error, r2_score\\nfrom urllib.parse import urlparse\\nimport mlflow\\nimport mlflow.sklearn\\nimport numpy as np\\nimport joblib'}\n",
      "   --->\n",
      "   \u001b[0m\n",
      "\u001b[32m2025-04-06 14:40:55.149\u001b[0m | \u001b[34m\u001b[1mDEBUG   \u001b[0m | \u001b[36mipykernel.kernelbase\u001b[0m:\u001b[36mdispatch_shell\u001b[0m:\u001b[36m429\u001b[0m - \u001b[34m\u001b[1mexecute_request: {'header': {'date': datetime.datetime(2025, 4, 6, 7, 40, 55, 146000, tzinfo=tzutc()), 'msg_id': 'dfe191e9-5abd-46be-b05d-85d8227662d3', 'msg_type': 'execute_request', 'session': 'c92cbc4b-e122-493e-b0c5-e2419c895b1f', 'username': '921bbd28-62a6-495f-bf76-e99e98a192ba', 'version': '5.2'}, 'msg_id': 'dfe191e9-5abd-46be-b05d-85d8227662d3', 'msg_type': 'execute_request', 'parent_header': {}, 'metadata': {'cellId': 'vscode-notebook-cell:/Users/phuc.buidang/Documents/Learn/Projects/basics_ds_project/research/5_model_evaluation.ipynb#W6sZmlsZQ%3D%3D'}, 'content': {'silent': False, 'store_history': True, 'user_expressions': {}, 'allow_stdin': True, 'stop_on_error': False, 'code': 'import os\\nimport pandas as pd\\nfrom sklearn.metrics import mean_squared_error, mean_absolute_error, r2_score\\nfrom urllib.parse import urlparse\\nimport mlflow\\nimport mlflow.sklearn\\nimport numpy as np\\nimport joblib'}, 'buffers': []}\u001b[0m\n",
      "\u001b[32m2025-04-06 14:41:02.978\u001b[0m | \u001b[34m\u001b[1mDEBUG   \u001b[0m | \u001b[36mipykernel.kernelbase\u001b[0m:\u001b[36mexecute_request\u001b[0m:\u001b[36m802\u001b[0m - \u001b[34m\u001b[1m{'header': {'msg_id': '8064d8e9-aac44a8455b69c00e20d9d8a_53216_70', 'msg_type': 'execute_reply', 'username': 'phuc.buidang', 'session': '8064d8e9-aac44a8455b69c00e20d9d8a', 'date': datetime.datetime(2025, 4, 6, 7, 41, 2, 977844, tzinfo=datetime.timezone.utc), 'version': '5.3'}, 'msg_id': '8064d8e9-aac44a8455b69c00e20d9d8a_53216_70', 'msg_type': 'execute_reply', 'parent_header': {'date': datetime.datetime(2025, 4, 6, 7, 40, 55, 146000, tzinfo=tzutc()), 'msg_id': 'dfe191e9-5abd-46be-b05d-85d8227662d3', 'msg_type': 'execute_request', 'session': 'c92cbc4b-e122-493e-b0c5-e2419c895b1f', 'username': '921bbd28-62a6-495f-bf76-e99e98a192ba', 'version': '5.2'}, 'content': {'status': 'ok', 'execution_count': 7, 'user_expressions': {}, 'payload': []}, 'metadata': {'started': datetime.datetime(2025, 4, 6, 7, 40, 55, 149663, tzinfo=datetime.timezone.utc), 'dependencies_met': True, 'engine': '6ab67d15-c85c-457a-bb39-0719e8288851', 'status': 'ok'}, 'tracker': <zmq.sugar.tracker.MessageTracker object at 0x103e8a7f0>}\u001b[0m\n"
     ]
    }
   ],
   "source": [
    "import os\n",
    "import pandas as pd\n",
    "from sklearn.metrics import mean_squared_error, mean_absolute_error, r2_score\n",
    "from urllib.parse import urlparse\n",
    "import mlflow\n",
    "import mlflow.sklearn\n",
    "import numpy as np\n",
    "import joblib"
   ]
  },
  {
   "cell_type": "code",
   "execution_count": 10,
   "metadata": {},
   "outputs": [
    {
     "name": "stderr",
     "output_type": "stream",
     "text": [
      "\u001b[32m2025-04-06 14:42:29.251\u001b[0m | \u001b[34m\u001b[1mDEBUG   \u001b[0m | \u001b[36mipykernel.kernelbase\u001b[0m:\u001b[36mdispatch_shell\u001b[0m:\u001b[36m419\u001b[0m - \u001b[34m\u001b[1m\n",
      "*** MESSAGE TYPE:execute_request***\u001b[0m\n",
      "\u001b[32m2025-04-06 14:42:29.252\u001b[0m | \u001b[34m\u001b[1mDEBUG   \u001b[0m | \u001b[36mipykernel.kernelbase\u001b[0m:\u001b[36mdispatch_shell\u001b[0m:\u001b[36m420\u001b[0m - \u001b[34m\u001b[1m   Content: {'silent': False, 'store_history': True, 'user_expressions': {}, 'allow_stdin': True, 'stop_on_error': False, 'code': 'import mlflow.models\\n\\n\\nclass ModelEvaluation:\\n    def __init__(self, config: ModelEvaluationConfig):\\n        self.config = config\\n\\n    def eval_metrics(self, actual, pred):\\n        rmse = np.sqrt(mean_squared_error(actual, pred))\\n        mae = mean_absolute_error(actual, pred)\\n        r2 = r2_score(actual, pred)\\n        return rmse, mae, r2\\n\\n    def log_into_mlflow(self):\\n\\n        test_data = pd.read_csv(self.config.test_data_path)\\n        model = joblib.load(self.config.model_path)\\n\\n        test_x = test_data.drop([self.config.target_column], axis=1)\\n        test_y = test_data[[self.config.target_column]]\\n\\n        mlflow.set_registry_uri(self.config.mlflow_uri)\\n        tracking_url_type_store = urlparse(mlflow.get_tracking_uri()).scheme\\n\\n        with mlflow.start_run():\\n\\n            predicted_qualities = model.predict(test_x)\\n\\n            (rmse, mae, r2) = self.eval_metrics(test_y, predicted_qualities)\\n\\n            # Saving metrics as local\\n            scores = {\"rmse\": rmse, \"mae\": mae, \"r2\": r2}\\n            save_json(path=Path(self.config.metric_file_name), data=scores)\\n\\n            mlflow.log_params(self.config.all_params)\\n\\n            mlflow.log_metric(\"rmse\", rmse)\\n            mlflow.log_metric(\"r2\", r2)\\n            mlflow.log_metric(\"mae\", mae)\\n\\n            signature = mlflow.models.infer_signature(test_x, predicted_qualities)\\n\\n            # Model registry does not work with file store\\n            if tracking_url_type_store != \"file\":\\n\\n                # Register the model\\n                # There are other ways to use the Model Registry, which depends on the use case,\\n                # please refer to the doc for more information:\\n                # https://mlflow.org/docs/latest/model-registry.html#api-workflow\\n                mlflow.sklearn.log_model(\\n                    model,\\n                    \"model\",\\n                    registered_model_name=\"ElasticnetModel\",\\n                    signature=signature,\\n                )\\n            else:\\n                mlflow.sklearn.log_model(model, \"model\", signature=signature)'}\n",
      "   --->\n",
      "   \u001b[0m\n",
      "\u001b[32m2025-04-06 14:42:29.252\u001b[0m | \u001b[34m\u001b[1mDEBUG   \u001b[0m | \u001b[36mipykernel.kernelbase\u001b[0m:\u001b[36mdispatch_shell\u001b[0m:\u001b[36m429\u001b[0m - \u001b[34m\u001b[1mexecute_request: {'header': {'date': datetime.datetime(2025, 4, 6, 7, 42, 29, 250000, tzinfo=tzutc()), 'msg_id': 'f4b17c1e-16ed-44c0-a0fa-da946d92a6a3', 'msg_type': 'execute_request', 'session': 'c92cbc4b-e122-493e-b0c5-e2419c895b1f', 'username': '921bbd28-62a6-495f-bf76-e99e98a192ba', 'version': '5.2'}, 'msg_id': 'f4b17c1e-16ed-44c0-a0fa-da946d92a6a3', 'msg_type': 'execute_request', 'parent_header': {}, 'metadata': {'cellId': 'vscode-notebook-cell:/Users/phuc.buidang/Documents/Learn/Projects/basics_ds_project/research/5_model_evaluation.ipynb#X10sZmlsZQ%3D%3D'}, 'content': {'silent': False, 'store_history': True, 'user_expressions': {}, 'allow_stdin': True, 'stop_on_error': False, 'code': 'import mlflow.models\\n\\n\\nclass ModelEvaluation:\\n    def __init__(self, config: ModelEvaluationConfig):\\n        self.config = config\\n\\n    def eval_metrics(self, actual, pred):\\n        rmse = np.sqrt(mean_squared_error(actual, pred))\\n        mae = mean_absolute_error(actual, pred)\\n        r2 = r2_score(actual, pred)\\n        return rmse, mae, r2\\n\\n    def log_into_mlflow(self):\\n\\n        test_data = pd.read_csv(self.config.test_data_path)\\n        model = joblib.load(self.config.model_path)\\n\\n        test_x = test_data.drop([self.config.target_column], axis=1)\\n        test_y = test_data[[self.config.target_column]]\\n\\n        mlflow.set_registry_uri(self.config.mlflow_uri)\\n        tracking_url_type_store = urlparse(mlflow.get_tracking_uri()).scheme\\n\\n        with mlflow.start_run():\\n\\n            predicted_qualities = model.predict(test_x)\\n\\n            (rmse, mae, r2) = self.eval_metrics(test_y, predicted_qualities)\\n\\n            # Saving metrics as local\\n            scores = {\"rmse\": rmse, \"mae\": mae, \"r2\": r2}\\n            save_json(path=Path(self.config.metric_file_name), data=scores)\\n\\n            mlflow.log_params(self.config.all_params)\\n\\n            mlflow.log_metric(\"rmse\", rmse)\\n            mlflow.log_metric(\"r2\", r2)\\n            mlflow.log_metric(\"mae\", mae)\\n\\n            signature = mlflow.models.infer_signature(test_x, predicted_qualities)\\n\\n            # Model registry does not work with file store\\n            if tracking_url_type_store != \"file\":\\n\\n                # Register the model\\n                # There are other ways to use the Model Registry, which depends on the use case,\\n                # please refer to the doc for more information:\\n                # https://mlflow.org/docs/latest/model-registry.html#api-workflow\\n                mlflow.sklearn.log_model(\\n                    model,\\n                    \"model\",\\n                    registered_model_name=\"ElasticnetModel\",\\n                    signature=signature,\\n                )\\n            else:\\n                mlflow.sklearn.log_model(model, \"model\", signature=signature)'}, 'buffers': []}\u001b[0m\n",
      "\u001b[32m2025-04-06 14:42:29.256\u001b[0m | \u001b[34m\u001b[1mDEBUG   \u001b[0m | \u001b[36mipykernel.kernelbase\u001b[0m:\u001b[36mexecute_request\u001b[0m:\u001b[36m802\u001b[0m - \u001b[34m\u001b[1m{'header': {'msg_id': '8064d8e9-aac44a8455b69c00e20d9d8a_53216_201', 'msg_type': 'execute_reply', 'username': 'phuc.buidang', 'session': '8064d8e9-aac44a8455b69c00e20d9d8a', 'date': datetime.datetime(2025, 4, 6, 7, 42, 29, 256518, tzinfo=datetime.timezone.utc), 'version': '5.3'}, 'msg_id': '8064d8e9-aac44a8455b69c00e20d9d8a_53216_201', 'msg_type': 'execute_reply', 'parent_header': {'date': datetime.datetime(2025, 4, 6, 7, 42, 29, 250000, tzinfo=tzutc()), 'msg_id': 'f4b17c1e-16ed-44c0-a0fa-da946d92a6a3', 'msg_type': 'execute_request', 'session': 'c92cbc4b-e122-493e-b0c5-e2419c895b1f', 'username': '921bbd28-62a6-495f-bf76-e99e98a192ba', 'version': '5.2'}, 'content': {'status': 'ok', 'execution_count': 10, 'user_expressions': {}, 'payload': []}, 'metadata': {'started': datetime.datetime(2025, 4, 6, 7, 42, 29, 252787, tzinfo=datetime.timezone.utc), 'dependencies_met': True, 'engine': '6ab67d15-c85c-457a-bb39-0719e8288851', 'status': 'ok'}, 'tracker': <zmq.sugar.tracker.MessageTracker object at 0x103e8a7f0>}\u001b[0m\n"
     ]
    }
   ],
   "source": [
    "import mlflow.models\n",
    "\n",
    "\n",
    "class ModelEvaluation:\n",
    "    def __init__(self, config: ModelEvaluationConfig):\n",
    "        self.config = config\n",
    "\n",
    "    def eval_metrics(self, actual, pred):\n",
    "        rmse = np.sqrt(mean_squared_error(actual, pred))\n",
    "        mae = mean_absolute_error(actual, pred)\n",
    "        r2 = r2_score(actual, pred)\n",
    "        return rmse, mae, r2\n",
    "\n",
    "    def log_into_mlflow(self):\n",
    "\n",
    "        test_data = pd.read_csv(self.config.test_data_path)\n",
    "        model = joblib.load(self.config.model_path)\n",
    "\n",
    "        test_x = test_data.drop([self.config.target_column], axis=1)\n",
    "        test_y = test_data[[self.config.target_column]]\n",
    "\n",
    "        mlflow.set_registry_uri(self.config.mlflow_uri)\n",
    "        tracking_url_type_store = urlparse(mlflow.get_tracking_uri()).scheme\n",
    "\n",
    "        with mlflow.start_run():\n",
    "\n",
    "            predicted_qualities = model.predict(test_x)\n",
    "\n",
    "            (rmse, mae, r2) = self.eval_metrics(test_y, predicted_qualities)\n",
    "\n",
    "            # Saving metrics as local\n",
    "            scores = {\"rmse\": rmse, \"mae\": mae, \"r2\": r2}\n",
    "            save_json(path=Path(self.config.metric_file_name), data=scores)\n",
    "\n",
    "            mlflow.log_params(self.config.all_params)\n",
    "\n",
    "            mlflow.log_metric(\"rmse\", rmse)\n",
    "            mlflow.log_metric(\"r2\", r2)\n",
    "            mlflow.log_metric(\"mae\", mae)\n",
    "\n",
    "            signature = mlflow.models.infer_signature(test_x, predicted_qualities)\n",
    "\n",
    "            # Model registry does not work with file store\n",
    "            if tracking_url_type_store != \"file\":\n",
    "\n",
    "                # Register the model\n",
    "                # There are other ways to use the Model Registry, which depends on the use case,\n",
    "                # please refer to the doc for more information:\n",
    "                # https://mlflow.org/docs/latest/model-registry.html#api-workflow\n",
    "                mlflow.sklearn.log_model(\n",
    "                    model,\n",
    "                    \"model\",\n",
    "                    registered_model_name=\"ElasticnetModel\",\n",
    "                    signature=signature,\n",
    "                )\n",
    "            else:\n",
    "                mlflow.sklearn.log_model(model, \"model\", signature=signature)"
   ]
  },
  {
   "cell_type": "code",
   "execution_count": 11,
   "metadata": {},
   "outputs": [
    {
     "name": "stderr",
     "output_type": "stream",
     "text": [
      "\u001b[32m2025-04-06 14:42:31.236\u001b[0m | \u001b[34m\u001b[1mDEBUG   \u001b[0m | \u001b[36mipykernel.kernelbase\u001b[0m:\u001b[36mdispatch_shell\u001b[0m:\u001b[36m419\u001b[0m - \u001b[34m\u001b[1m\n",
      "*** MESSAGE TYPE:execute_request***\u001b[0m\n",
      "\u001b[32m2025-04-06 14:42:31.237\u001b[0m | \u001b[34m\u001b[1mDEBUG   \u001b[0m | \u001b[36mipykernel.kernelbase\u001b[0m:\u001b[36mdispatch_shell\u001b[0m:\u001b[36m420\u001b[0m - \u001b[34m\u001b[1m   Content: {'silent': False, 'store_history': True, 'user_expressions': {}, 'allow_stdin': True, 'stop_on_error': False, 'code': 'try:\\n    config = ConfigurationManager()\\n    model_evaluation_config = config.get_model_evaluation_config()\\n    model_evaluation = ModelEvaluation(config=model_evaluation_config)\\n    model_evaluation.log_into_mlflow()\\nexcept Exception as e:\\n    raise e'}\n",
      "   --->\n",
      "   \u001b[0m\n",
      "\u001b[32m2025-04-06 14:42:31.237\u001b[0m | \u001b[34m\u001b[1mDEBUG   \u001b[0m | \u001b[36mipykernel.kernelbase\u001b[0m:\u001b[36mdispatch_shell\u001b[0m:\u001b[36m429\u001b[0m - \u001b[34m\u001b[1mexecute_request: {'header': {'date': datetime.datetime(2025, 4, 6, 7, 42, 31, 234000, tzinfo=tzutc()), 'msg_id': 'b7105193-4f64-4dfb-8c68-2b265a829903', 'msg_type': 'execute_request', 'session': 'c92cbc4b-e122-493e-b0c5-e2419c895b1f', 'username': '921bbd28-62a6-495f-bf76-e99e98a192ba', 'version': '5.2'}, 'msg_id': 'b7105193-4f64-4dfb-8c68-2b265a829903', 'msg_type': 'execute_request', 'parent_header': {}, 'metadata': {'cellId': 'vscode-notebook-cell:/Users/phuc.buidang/Documents/Learn/Projects/basics_ds_project/research/5_model_evaluation.ipynb#X11sZmlsZQ%3D%3D'}, 'content': {'silent': False, 'store_history': True, 'user_expressions': {}, 'allow_stdin': True, 'stop_on_error': False, 'code': 'try:\\n    config = ConfigurationManager()\\n    model_evaluation_config = config.get_model_evaluation_config()\\n    model_evaluation = ModelEvaluation(config=model_evaluation_config)\\n    model_evaluation.log_into_mlflow()\\nexcept Exception as e:\\n    raise e'}, 'buffers': []}\u001b[0m\n",
      "\u001b[32m2025-04-06 14:42:31.241\u001b[0m | \u001b[1mINFO    \u001b[0m | \u001b[36msrc.datascience.utils.common\u001b[0m:\u001b[36mread_yaml\u001b[0m:\u001b[36m32\u001b[0m - \u001b[1myaml file: config/config.yaml loaded successfully\u001b[0m\n",
      "\u001b[32m2025-04-06 14:42:31.243\u001b[0m | \u001b[1mINFO    \u001b[0m | \u001b[36msrc.datascience.utils.common\u001b[0m:\u001b[36mread_yaml\u001b[0m:\u001b[36m32\u001b[0m - \u001b[1myaml file: params.yaml loaded successfully\u001b[0m\n",
      "\u001b[32m2025-04-06 14:42:31.245\u001b[0m | \u001b[1mINFO    \u001b[0m | \u001b[36msrc.datascience.utils.common\u001b[0m:\u001b[36mread_yaml\u001b[0m:\u001b[36m32\u001b[0m - \u001b[1myaml file: schema.yaml loaded successfully\u001b[0m\n",
      "\u001b[32m2025-04-06 14:42:31.246\u001b[0m | \u001b[1mINFO    \u001b[0m | \u001b[36msrc.datascience.utils.common\u001b[0m:\u001b[36mcreate_directories\u001b[0m:\u001b[36m51\u001b[0m - \u001b[1mcreated directory at: artifacts\u001b[0m\n",
      "\u001b[32m2025-04-06 14:42:31.247\u001b[0m | \u001b[1mINFO    \u001b[0m | \u001b[36msrc.datascience.utils.common\u001b[0m:\u001b[36mcreate_directories\u001b[0m:\u001b[36m51\u001b[0m - \u001b[1mcreated directory at: artifacts/model_evaluation\u001b[0m\n",
      "/opt/homebrew/anaconda3/envs/mlops/lib/python3.9/site-packages/sklearn/linear_model/_base.py:279: RuntimeWarning: divide by zero encountered in matmul\n",
      "  return X @ coef_ + self.intercept_\n",
      "/opt/homebrew/anaconda3/envs/mlops/lib/python3.9/site-packages/sklearn/linear_model/_base.py:279: RuntimeWarning: overflow encountered in matmul\n",
      "  return X @ coef_ + self.intercept_\n",
      "/opt/homebrew/anaconda3/envs/mlops/lib/python3.9/site-packages/sklearn/linear_model/_base.py:279: RuntimeWarning: invalid value encountered in matmul\n",
      "  return X @ coef_ + self.intercept_\n",
      "\u001b[32m2025-04-06 14:42:31.301\u001b[0m | \u001b[1mINFO    \u001b[0m | \u001b[36msrc.datascience.utils.common\u001b[0m:\u001b[36msave_json\u001b[0m:\u001b[36m65\u001b[0m - \u001b[1mjson file saved at: artifacts/model_evaluation/metrics.json\u001b[0m\n",
      "\u001b[32m2025-04-06 14:42:33.668\u001b[0m | \u001b[34m\u001b[1mDEBUG   \u001b[0m | \u001b[36mipykernel.kernelbase\u001b[0m:\u001b[36mexecute_request\u001b[0m:\u001b[36m802\u001b[0m - \u001b[34m\u001b[1m{'header': {'msg_id': '8064d8e9-aac44a8455b69c00e20d9d8a_53216_215', 'msg_type': 'execute_reply', 'username': 'phuc.buidang', 'session': '8064d8e9-aac44a8455b69c00e20d9d8a', 'date': datetime.datetime(2025, 4, 6, 7, 42, 33, 668103, tzinfo=datetime.timezone.utc), 'version': '5.3'}, 'msg_id': '8064d8e9-aac44a8455b69c00e20d9d8a_53216_215', 'msg_type': 'execute_reply', 'parent_header': {'date': datetime.datetime(2025, 4, 6, 7, 42, 31, 234000, tzinfo=tzutc()), 'msg_id': 'b7105193-4f64-4dfb-8c68-2b265a829903', 'msg_type': 'execute_request', 'session': 'c92cbc4b-e122-493e-b0c5-e2419c895b1f', 'username': '921bbd28-62a6-495f-bf76-e99e98a192ba', 'version': '5.2'}, 'content': {'status': 'ok', 'execution_count': 11, 'user_expressions': {}, 'payload': []}, 'metadata': {'started': datetime.datetime(2025, 4, 6, 7, 42, 31, 238052, tzinfo=datetime.timezone.utc), 'dependencies_met': True, 'engine': '6ab67d15-c85c-457a-bb39-0719e8288851', 'status': 'ok'}, 'tracker': <zmq.sugar.tracker.MessageTracker object at 0x103e8a7f0>}\u001b[0m\n"
     ]
    }
   ],
   "source": [
    "try:\n",
    "    config = ConfigurationManager()\n",
    "    model_evaluation_config = config.get_model_evaluation_config()\n",
    "    model_evaluation = ModelEvaluation(config=model_evaluation_config)\n",
    "    model_evaluation.log_into_mlflow()\n",
    "except Exception as e:\n",
    "    raise e"
   ]
  },
  {
   "cell_type": "code",
   "execution_count": null,
   "metadata": {},
   "outputs": [],
   "source": []
  }
 ],
 "metadata": {
  "kernelspec": {
   "display_name": "mlops",
   "language": "python",
   "name": "python3"
  },
  "language_info": {
   "codemirror_mode": {
    "name": "ipython",
    "version": 3
   },
   "file_extension": ".py",
   "mimetype": "text/x-python",
   "name": "python",
   "nbconvert_exporter": "python",
   "pygments_lexer": "ipython3",
   "version": "3.9.21"
  }
 },
 "nbformat": 4,
 "nbformat_minor": 2
}
