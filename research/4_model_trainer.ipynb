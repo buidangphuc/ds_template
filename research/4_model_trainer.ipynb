{
 "cells": [
  {
   "cell_type": "code",
   "execution_count": 1,
   "metadata": {},
   "outputs": [],
   "source": [
    "import os"
   ]
  },
  {
   "cell_type": "code",
   "execution_count": 2,
   "metadata": {},
   "outputs": [
    {
     "data": {
      "text/plain": [
       "'/Users/phuc.buidang/Documents/Learn/Projects/basics_ds_project/research'"
      ]
     },
     "execution_count": 2,
     "metadata": {},
     "output_type": "execute_result"
    }
   ],
   "source": [
    "%pwd"
   ]
  },
  {
   "cell_type": "code",
   "execution_count": 3,
   "metadata": {},
   "outputs": [],
   "source": [
    "os.chdir(\"../\")"
   ]
  },
  {
   "cell_type": "code",
   "execution_count": 4,
   "metadata": {},
   "outputs": [
    {
     "data": {
      "text/plain": [
       "'/Users/phuc.buidang/Documents/Learn/Projects/basics_ds_project'"
      ]
     },
     "execution_count": 4,
     "metadata": {},
     "output_type": "execute_result"
    }
   ],
   "source": [
    "%pwd"
   ]
  },
  {
   "cell_type": "code",
   "execution_count": 5,
   "metadata": {},
   "outputs": [],
   "source": [
    "from dataclasses import dataclass\n",
    "from pathlib import Path\n",
    "\n",
    "\n",
    "@dataclass\n",
    "class ModelTrainerConfig:\n",
    "    root_dir: Path\n",
    "    train_data_path: Path\n",
    "    test_data_path: Path\n",
    "    model_name: str\n",
    "    alpha: float\n",
    "    l1_ratio: float\n",
    "    target_column: str"
   ]
  },
  {
   "cell_type": "code",
   "execution_count": 6,
   "metadata": {},
   "outputs": [
    {
     "name": "stderr",
     "output_type": "stream",
     "text": [
      "\u001b[32m2025-04-06 11:03:00.130\u001b[0m | \u001b[34m\u001b[1mDEBUG   \u001b[0m | \u001b[36mipykernel.kernelbase\u001b[0m:\u001b[36mexecute_request\u001b[0m:\u001b[36m802\u001b[0m - \u001b[34m\u001b[1m{'header': {'msg_id': '72cbe922-8b95cd444f6bf161e7aacbe2_25286_55', 'msg_type': 'execute_reply', 'username': 'phuc.buidang', 'session': '72cbe922-8b95cd444f6bf161e7aacbe2', 'date': datetime.datetime(2025, 4, 6, 4, 3, 0, 130035, tzinfo=datetime.timezone.utc), 'version': '5.3'}, 'msg_id': '72cbe922-8b95cd444f6bf161e7aacbe2_25286_55', 'msg_type': 'execute_reply', 'parent_header': {'date': datetime.datetime(2025, 4, 6, 4, 2, 59, 964000, tzinfo=tzutc()), 'msg_id': '94ed900e-4d7f-4b46-8b43-8717f93f6291', 'msg_type': 'execute_request', 'session': 'e1c3e43e-bb5c-4065-8ab2-b05f2093729e', 'username': '82bd650b-4e46-4cea-b744-3fce9086a129', 'version': '5.2'}, 'content': {'status': 'ok', 'execution_count': 6, 'user_expressions': {}, 'payload': []}, 'metadata': {'started': datetime.datetime(2025, 4, 6, 4, 2, 59, 965520, tzinfo=datetime.timezone.utc), 'dependencies_met': True, 'engine': '232cdb24-9cb9-488e-99af-30d8d11e886e', 'status': 'ok'}, 'tracker': <zmq.sugar.tracker.MessageTracker object at 0x102d5a7f0>}\u001b[0m\n"
     ]
    }
   ],
   "source": [
    "from src.datascience.constants import *\n",
    "from src.datascience.utils.common import read_yaml, create_directories"
   ]
  },
  {
   "cell_type": "code",
   "execution_count": 7,
   "metadata": {},
   "outputs": [
    {
     "name": "stderr",
     "output_type": "stream",
     "text": [
      "\u001b[32m2025-04-06 11:03:00.132\u001b[0m | \u001b[34m\u001b[1mDEBUG   \u001b[0m | \u001b[36mipykernel.kernelbase\u001b[0m:\u001b[36mdispatch_shell\u001b[0m:\u001b[36m419\u001b[0m - \u001b[34m\u001b[1m\n",
      "*** MESSAGE TYPE:execute_request***\u001b[0m\n",
      "\u001b[32m2025-04-06 11:03:00.132\u001b[0m | \u001b[34m\u001b[1mDEBUG   \u001b[0m | \u001b[36mipykernel.kernelbase\u001b[0m:\u001b[36mdispatch_shell\u001b[0m:\u001b[36m420\u001b[0m - \u001b[34m\u001b[1m   Content: {'silent': False, 'store_history': True, 'user_expressions': {}, 'allow_stdin': True, 'stop_on_error': False, 'code': 'class ConfigurationManager:\\n    def __init__(\\n        self,\\n        config_filepath=CONFIG_FILE_PATH,\\n        params_filepath=PARAMS_FILE_PATH,\\n        schema_filepath=SCHEMA_FILE_PATH,\\n    ):\\n\\n        self.config = read_yaml(config_filepath)\\n        self.params = read_yaml(params_filepath)\\n        self.schema = read_yaml(schema_filepath)\\n\\n        create_directories([self.config.artifacts_root])\\n\\n    def get_model_trainer_config(self) -> ModelTrainerConfig:\\n        config = self.config.model_trainer\\n        params = self.params.ElasticNet\\n        schema = self.schema.TARGET_COLUMN\\n\\n        create_directories([config.root_dir])\\n\\n        model_trainer_config = ModelTrainerConfig(\\n            root_dir=config.root_dir,\\n            train_data_path=config.train_data_path,\\n            test_data_path=config.test_data_path,\\n            model_name=config.model_name,\\n            alpha=params.alpha,\\n            l1_ratio=params.l1_ratio,\\n            target_column=schema.name,\\n        )\\n\\n        return model_trainer_config'}\n",
      "   --->\n",
      "   \u001b[0m\n",
      "\u001b[32m2025-04-06 11:03:00.133\u001b[0m | \u001b[34m\u001b[1mDEBUG   \u001b[0m | \u001b[36mipykernel.kernelbase\u001b[0m:\u001b[36mdispatch_shell\u001b[0m:\u001b[36m429\u001b[0m - \u001b[34m\u001b[1mexecute_request: {'header': {'date': datetime.datetime(2025, 4, 6, 4, 3, 0, 132000, tzinfo=tzutc()), 'msg_id': 'b8e3343c-5cf4-4038-a53c-3a13251bc9b8', 'msg_type': 'execute_request', 'session': 'e1c3e43e-bb5c-4065-8ab2-b05f2093729e', 'username': '82bd650b-4e46-4cea-b744-3fce9086a129', 'version': '5.2'}, 'msg_id': 'b8e3343c-5cf4-4038-a53c-3a13251bc9b8', 'msg_type': 'execute_request', 'parent_header': {}, 'metadata': {'cellId': 'vscode-notebook-cell:/Users/phuc.buidang/Documents/Learn/Projects/basics_ds_project/research/4_model_trainer.ipynb#W6sZmlsZQ%3D%3D'}, 'content': {'silent': False, 'store_history': True, 'user_expressions': {}, 'allow_stdin': True, 'stop_on_error': False, 'code': 'class ConfigurationManager:\\n    def __init__(\\n        self,\\n        config_filepath=CONFIG_FILE_PATH,\\n        params_filepath=PARAMS_FILE_PATH,\\n        schema_filepath=SCHEMA_FILE_PATH,\\n    ):\\n\\n        self.config = read_yaml(config_filepath)\\n        self.params = read_yaml(params_filepath)\\n        self.schema = read_yaml(schema_filepath)\\n\\n        create_directories([self.config.artifacts_root])\\n\\n    def get_model_trainer_config(self) -> ModelTrainerConfig:\\n        config = self.config.model_trainer\\n        params = self.params.ElasticNet\\n        schema = self.schema.TARGET_COLUMN\\n\\n        create_directories([config.root_dir])\\n\\n        model_trainer_config = ModelTrainerConfig(\\n            root_dir=config.root_dir,\\n            train_data_path=config.train_data_path,\\n            test_data_path=config.test_data_path,\\n            model_name=config.model_name,\\n            alpha=params.alpha,\\n            l1_ratio=params.l1_ratio,\\n            target_column=schema.name,\\n        )\\n\\n        return model_trainer_config'}, 'buffers': []}\u001b[0m\n",
      "\u001b[32m2025-04-06 11:03:00.146\u001b[0m | \u001b[34m\u001b[1mDEBUG   \u001b[0m | \u001b[36mipykernel.kernelbase\u001b[0m:\u001b[36mexecute_request\u001b[0m:\u001b[36m802\u001b[0m - \u001b[34m\u001b[1m{'header': {'msg_id': '72cbe922-8b95cd444f6bf161e7aacbe2_25286_63', 'msg_type': 'execute_reply', 'username': 'phuc.buidang', 'session': '72cbe922-8b95cd444f6bf161e7aacbe2', 'date': datetime.datetime(2025, 4, 6, 4, 3, 0, 146187, tzinfo=datetime.timezone.utc), 'version': '5.3'}, 'msg_id': '72cbe922-8b95cd444f6bf161e7aacbe2_25286_63', 'msg_type': 'execute_reply', 'parent_header': {'date': datetime.datetime(2025, 4, 6, 4, 3, 0, 132000, tzinfo=tzutc()), 'msg_id': 'b8e3343c-5cf4-4038-a53c-3a13251bc9b8', 'msg_type': 'execute_request', 'session': 'e1c3e43e-bb5c-4065-8ab2-b05f2093729e', 'username': '82bd650b-4e46-4cea-b744-3fce9086a129', 'version': '5.2'}, 'content': {'status': 'ok', 'execution_count': 7, 'user_expressions': {}, 'payload': []}, 'metadata': {'started': datetime.datetime(2025, 4, 6, 4, 3, 0, 133197, tzinfo=datetime.timezone.utc), 'dependencies_met': True, 'engine': '232cdb24-9cb9-488e-99af-30d8d11e886e', 'status': 'ok'}, 'tracker': <zmq.sugar.tracker.MessageTracker object at 0x102d5a7f0>}\u001b[0m\n"
     ]
    }
   ],
   "source": [
    "class ConfigurationManager:\n",
    "    def __init__(\n",
    "        self,\n",
    "        config_filepath=CONFIG_FILE_PATH,\n",
    "        params_filepath=PARAMS_FILE_PATH,\n",
    "        schema_filepath=SCHEMA_FILE_PATH,\n",
    "    ):\n",
    "\n",
    "        self.config = read_yaml(config_filepath)\n",
    "        self.params = read_yaml(params_filepath)\n",
    "        self.schema = read_yaml(schema_filepath)\n",
    "\n",
    "        create_directories([self.config.artifacts_root])\n",
    "\n",
    "    def get_model_trainer_config(self) -> ModelTrainerConfig:\n",
    "        config = self.config.model_trainer\n",
    "        params = self.params.ElasticNet\n",
    "        schema = self.schema.TARGET_COLUMN\n",
    "\n",
    "        create_directories([config.root_dir])\n",
    "\n",
    "        model_trainer_config = ModelTrainerConfig(\n",
    "            root_dir=config.root_dir,\n",
    "            train_data_path=config.train_data_path,\n",
    "            test_data_path=config.test_data_path,\n",
    "            model_name=config.model_name,\n",
    "            alpha=params.alpha,\n",
    "            l1_ratio=params.l1_ratio,\n",
    "            target_column=schema.name,\n",
    "        )\n",
    "\n",
    "        return model_trainer_config"
   ]
  },
  {
   "cell_type": "code",
   "execution_count": 8,
   "metadata": {},
   "outputs": [
    {
     "name": "stderr",
     "output_type": "stream",
     "text": [
      "\u001b[32m2025-04-06 11:03:00.148\u001b[0m | \u001b[34m\u001b[1mDEBUG   \u001b[0m | \u001b[36mipykernel.kernelbase\u001b[0m:\u001b[36mdispatch_shell\u001b[0m:\u001b[36m419\u001b[0m - \u001b[34m\u001b[1m\n",
      "*** MESSAGE TYPE:execute_request***\u001b[0m\n",
      "\u001b[32m2025-04-06 11:03:00.149\u001b[0m | \u001b[34m\u001b[1mDEBUG   \u001b[0m | \u001b[36mipykernel.kernelbase\u001b[0m:\u001b[36mdispatch_shell\u001b[0m:\u001b[36m420\u001b[0m - \u001b[34m\u001b[1m   Content: {'silent': False, 'store_history': True, 'user_expressions': {}, 'allow_stdin': True, 'stop_on_error': False, 'code': 'import pandas as pd\\nimport os\\nfrom sklearn.linear_model import ElasticNet\\nimport joblib'}\n",
      "   --->\n",
      "   \u001b[0m\n",
      "\u001b[32m2025-04-06 11:03:00.149\u001b[0m | \u001b[34m\u001b[1mDEBUG   \u001b[0m | \u001b[36mipykernel.kernelbase\u001b[0m:\u001b[36mdispatch_shell\u001b[0m:\u001b[36m429\u001b[0m - \u001b[34m\u001b[1mexecute_request: {'header': {'date': datetime.datetime(2025, 4, 6, 4, 3, 0, 148000, tzinfo=tzutc()), 'msg_id': 'd711ff6e-2990-47b2-98ee-8adfdb6ce8ae', 'msg_type': 'execute_request', 'session': 'e1c3e43e-bb5c-4065-8ab2-b05f2093729e', 'username': '82bd650b-4e46-4cea-b744-3fce9086a129', 'version': '5.2'}, 'msg_id': 'd711ff6e-2990-47b2-98ee-8adfdb6ce8ae', 'msg_type': 'execute_request', 'parent_header': {}, 'metadata': {'cellId': 'vscode-notebook-cell:/Users/phuc.buidang/Documents/Learn/Projects/basics_ds_project/research/4_model_trainer.ipynb#X10sZmlsZQ%3D%3D'}, 'content': {'silent': False, 'store_history': True, 'user_expressions': {}, 'allow_stdin': True, 'stop_on_error': False, 'code': 'import pandas as pd\\nimport os\\nfrom sklearn.linear_model import ElasticNet\\nimport joblib'}, 'buffers': []}\u001b[0m\n",
      "\u001b[32m2025-04-06 11:03:01.278\u001b[0m | \u001b[34m\u001b[1mDEBUG   \u001b[0m | \u001b[36mipykernel.kernelbase\u001b[0m:\u001b[36mexecute_request\u001b[0m:\u001b[36m802\u001b[0m - \u001b[34m\u001b[1m{'header': {'msg_id': '72cbe922-8b95cd444f6bf161e7aacbe2_25286_71', 'msg_type': 'execute_reply', 'username': 'phuc.buidang', 'session': '72cbe922-8b95cd444f6bf161e7aacbe2', 'date': datetime.datetime(2025, 4, 6, 4, 3, 1, 278358, tzinfo=datetime.timezone.utc), 'version': '5.3'}, 'msg_id': '72cbe922-8b95cd444f6bf161e7aacbe2_25286_71', 'msg_type': 'execute_reply', 'parent_header': {'date': datetime.datetime(2025, 4, 6, 4, 3, 0, 148000, tzinfo=tzutc()), 'msg_id': 'd711ff6e-2990-47b2-98ee-8adfdb6ce8ae', 'msg_type': 'execute_request', 'session': 'e1c3e43e-bb5c-4065-8ab2-b05f2093729e', 'username': '82bd650b-4e46-4cea-b744-3fce9086a129', 'version': '5.2'}, 'content': {'status': 'ok', 'execution_count': 8, 'user_expressions': {}, 'payload': []}, 'metadata': {'started': datetime.datetime(2025, 4, 6, 4, 3, 0, 150003, tzinfo=datetime.timezone.utc), 'dependencies_met': True, 'engine': '232cdb24-9cb9-488e-99af-30d8d11e886e', 'status': 'ok'}, 'tracker': <zmq.sugar.tracker.MessageTracker object at 0x102d5a7f0>}\u001b[0m\n"
     ]
    }
   ],
   "source": [
    "import pandas as pd\n",
    "import os\n",
    "from sklearn.linear_model import ElasticNet\n",
    "import joblib"
   ]
  },
  {
   "cell_type": "code",
   "execution_count": 9,
   "metadata": {},
   "outputs": [
    {
     "name": "stderr",
     "output_type": "stream",
     "text": [
      "\u001b[32m2025-04-06 11:03:01.280\u001b[0m | \u001b[34m\u001b[1mDEBUG   \u001b[0m | \u001b[36mipykernel.kernelbase\u001b[0m:\u001b[36mdispatch_shell\u001b[0m:\u001b[36m419\u001b[0m - \u001b[34m\u001b[1m\n",
      "*** MESSAGE TYPE:execute_request***\u001b[0m\n",
      "\u001b[32m2025-04-06 11:03:01.281\u001b[0m | \u001b[34m\u001b[1mDEBUG   \u001b[0m | \u001b[36mipykernel.kernelbase\u001b[0m:\u001b[36mdispatch_shell\u001b[0m:\u001b[36m420\u001b[0m - \u001b[34m\u001b[1m   Content: {'silent': False, 'store_history': True, 'user_expressions': {}, 'allow_stdin': True, 'stop_on_error': False, 'code': 'class ModelTrainer:\\n    def __init__(self, config: ModelTrainerConfig):\\n        self.config = config\\n\\n    def train(self):\\n        train_data = pd.read_csv(self.config.train_data_path)\\n        test_data = pd.read_csv(self.config.test_data_path)\\n\\n        train_x = train_data.drop([self.config.target_column], axis=1)\\n        test_x = test_data.drop([self.config.target_column], axis=1)\\n        train_y = train_data[[self.config.target_column]]\\n        test_y = test_data[[self.config.target_column]]\\n\\n        lr = ElasticNet(\\n            alpha=self.config.alpha, l1_ratio=self.config.l1_ratio, random_state=42\\n        )\\n        lr.fit(train_x, train_y)\\n\\n        joblib.dump(lr, os.path.join(self.config.root_dir, self.config.model_name))'}\n",
      "   --->\n",
      "   \u001b[0m\n",
      "\u001b[32m2025-04-06 11:03:01.281\u001b[0m | \u001b[34m\u001b[1mDEBUG   \u001b[0m | \u001b[36mipykernel.kernelbase\u001b[0m:\u001b[36mdispatch_shell\u001b[0m:\u001b[36m429\u001b[0m - \u001b[34m\u001b[1mexecute_request: {'header': {'date': datetime.datetime(2025, 4, 6, 4, 3, 1, 280000, tzinfo=tzutc()), 'msg_id': 'bf082b7d-7fc0-4fc4-ae34-de172c52d73d', 'msg_type': 'execute_request', 'session': 'e1c3e43e-bb5c-4065-8ab2-b05f2093729e', 'username': '82bd650b-4e46-4cea-b744-3fce9086a129', 'version': '5.2'}, 'msg_id': 'bf082b7d-7fc0-4fc4-ae34-de172c52d73d', 'msg_type': 'execute_request', 'parent_header': {}, 'metadata': {'cellId': 'vscode-notebook-cell:/Users/phuc.buidang/Documents/Learn/Projects/basics_ds_project/research/4_model_trainer.ipynb#X11sZmlsZQ%3D%3D'}, 'content': {'silent': False, 'store_history': True, 'user_expressions': {}, 'allow_stdin': True, 'stop_on_error': False, 'code': 'class ModelTrainer:\\n    def __init__(self, config: ModelTrainerConfig):\\n        self.config = config\\n\\n    def train(self):\\n        train_data = pd.read_csv(self.config.train_data_path)\\n        test_data = pd.read_csv(self.config.test_data_path)\\n\\n        train_x = train_data.drop([self.config.target_column], axis=1)\\n        test_x = test_data.drop([self.config.target_column], axis=1)\\n        train_y = train_data[[self.config.target_column]]\\n        test_y = test_data[[self.config.target_column]]\\n\\n        lr = ElasticNet(\\n            alpha=self.config.alpha, l1_ratio=self.config.l1_ratio, random_state=42\\n        )\\n        lr.fit(train_x, train_y)\\n\\n        joblib.dump(lr, os.path.join(self.config.root_dir, self.config.model_name))'}, 'buffers': []}\u001b[0m\n",
      "\u001b[32m2025-04-06 11:03:01.284\u001b[0m | \u001b[34m\u001b[1mDEBUG   \u001b[0m | \u001b[36mipykernel.kernelbase\u001b[0m:\u001b[36mexecute_request\u001b[0m:\u001b[36m802\u001b[0m - \u001b[34m\u001b[1m{'header': {'msg_id': '72cbe922-8b95cd444f6bf161e7aacbe2_25286_79', 'msg_type': 'execute_reply', 'username': 'phuc.buidang', 'session': '72cbe922-8b95cd444f6bf161e7aacbe2', 'date': datetime.datetime(2025, 4, 6, 4, 3, 1, 284115, tzinfo=datetime.timezone.utc), 'version': '5.3'}, 'msg_id': '72cbe922-8b95cd444f6bf161e7aacbe2_25286_79', 'msg_type': 'execute_reply', 'parent_header': {'date': datetime.datetime(2025, 4, 6, 4, 3, 1, 280000, tzinfo=tzutc()), 'msg_id': 'bf082b7d-7fc0-4fc4-ae34-de172c52d73d', 'msg_type': 'execute_request', 'session': 'e1c3e43e-bb5c-4065-8ab2-b05f2093729e', 'username': '82bd650b-4e46-4cea-b744-3fce9086a129', 'version': '5.2'}, 'content': {'status': 'ok', 'execution_count': 9, 'user_expressions': {}, 'payload': []}, 'metadata': {'started': datetime.datetime(2025, 4, 6, 4, 3, 1, 281747, tzinfo=datetime.timezone.utc), 'dependencies_met': True, 'engine': '232cdb24-9cb9-488e-99af-30d8d11e886e', 'status': 'ok'}, 'tracker': <zmq.sugar.tracker.MessageTracker object at 0x102d5a7f0>}\u001b[0m\n"
     ]
    }
   ],
   "source": [
    "class ModelTrainer:\n",
    "    def __init__(self, config: ModelTrainerConfig):\n",
    "        self.config = config\n",
    "\n",
    "    def train(self):\n",
    "        train_data = pd.read_csv(self.config.train_data_path)\n",
    "        test_data = pd.read_csv(self.config.test_data_path)\n",
    "\n",
    "        train_x = train_data.drop([self.config.target_column], axis=1)\n",
    "        test_x = test_data.drop([self.config.target_column], axis=1)\n",
    "        train_y = train_data[[self.config.target_column]]\n",
    "        test_y = test_data[[self.config.target_column]]\n",
    "\n",
    "        lr = ElasticNet(\n",
    "            alpha=self.config.alpha, l1_ratio=self.config.l1_ratio, random_state=42\n",
    "        )\n",
    "        lr.fit(train_x, train_y)\n",
    "\n",
    "        joblib.dump(lr, os.path.join(self.config.root_dir, self.config.model_name))"
   ]
  },
  {
   "cell_type": "code",
   "execution_count": 10,
   "metadata": {},
   "outputs": [
    {
     "name": "stderr",
     "output_type": "stream",
     "text": [
      "\u001b[32m2025-04-06 11:03:01.285\u001b[0m | \u001b[34m\u001b[1mDEBUG   \u001b[0m | \u001b[36mipykernel.kernelbase\u001b[0m:\u001b[36mdispatch_shell\u001b[0m:\u001b[36m419\u001b[0m - \u001b[34m\u001b[1m\n",
      "*** MESSAGE TYPE:execute_request***\u001b[0m\n",
      "\u001b[32m2025-04-06 11:03:01.286\u001b[0m | \u001b[34m\u001b[1mDEBUG   \u001b[0m | \u001b[36mipykernel.kernelbase\u001b[0m:\u001b[36mdispatch_shell\u001b[0m:\u001b[36m420\u001b[0m - \u001b[34m\u001b[1m   Content: {'silent': False, 'store_history': True, 'user_expressions': {}, 'allow_stdin': True, 'stop_on_error': False, 'code': 'try:\\n    config = ConfigurationManager()\\n    model_trainer_config = config.get_model_trainer_config()\\n    model_trainer = ModelTrainer(config=model_trainer_config)\\n    model_trainer.train()\\nexcept Exception as e:\\n    raise e'}\n",
      "   --->\n",
      "   \u001b[0m\n",
      "\u001b[32m2025-04-06 11:03:01.286\u001b[0m | \u001b[34m\u001b[1mDEBUG   \u001b[0m | \u001b[36mipykernel.kernelbase\u001b[0m:\u001b[36mdispatch_shell\u001b[0m:\u001b[36m429\u001b[0m - \u001b[34m\u001b[1mexecute_request: {'header': {'date': datetime.datetime(2025, 4, 6, 4, 3, 1, 285000, tzinfo=tzutc()), 'msg_id': 'ca4bc8da-8ab1-486c-b16c-deb6ee9f1201', 'msg_type': 'execute_request', 'session': 'e1c3e43e-bb5c-4065-8ab2-b05f2093729e', 'username': '82bd650b-4e46-4cea-b744-3fce9086a129', 'version': '5.2'}, 'msg_id': 'ca4bc8da-8ab1-486c-b16c-deb6ee9f1201', 'msg_type': 'execute_request', 'parent_header': {}, 'metadata': {'cellId': 'vscode-notebook-cell:/Users/phuc.buidang/Documents/Learn/Projects/basics_ds_project/research/4_model_trainer.ipynb#X12sZmlsZQ%3D%3D'}, 'content': {'silent': False, 'store_history': True, 'user_expressions': {}, 'allow_stdin': True, 'stop_on_error': False, 'code': 'try:\\n    config = ConfigurationManager()\\n    model_trainer_config = config.get_model_trainer_config()\\n    model_trainer = ModelTrainer(config=model_trainer_config)\\n    model_trainer.train()\\nexcept Exception as e:\\n    raise e'}, 'buffers': []}\u001b[0m\n",
      "\u001b[32m2025-04-06 11:03:01.289\u001b[0m | \u001b[1mINFO    \u001b[0m | \u001b[36msrc.datascience.utils.common\u001b[0m:\u001b[36mread_yaml\u001b[0m:\u001b[36m32\u001b[0m - \u001b[1myaml file: config/config.yaml loaded successfully\u001b[0m\n",
      "\u001b[32m2025-04-06 11:03:01.290\u001b[0m | \u001b[1mINFO    \u001b[0m | \u001b[36msrc.datascience.utils.common\u001b[0m:\u001b[36mread_yaml\u001b[0m:\u001b[36m32\u001b[0m - \u001b[1myaml file: params.yaml loaded successfully\u001b[0m\n",
      "\u001b[32m2025-04-06 11:03:01.292\u001b[0m | \u001b[1mINFO    \u001b[0m | \u001b[36msrc.datascience.utils.common\u001b[0m:\u001b[36mread_yaml\u001b[0m:\u001b[36m32\u001b[0m - \u001b[1myaml file: schema.yaml loaded successfully\u001b[0m\n",
      "\u001b[32m2025-04-06 11:03:01.292\u001b[0m | \u001b[1mINFO    \u001b[0m | \u001b[36msrc.datascience.utils.common\u001b[0m:\u001b[36mcreate_directories\u001b[0m:\u001b[36m51\u001b[0m - \u001b[1mcreated directory at: artifacts\u001b[0m\n",
      "\u001b[32m2025-04-06 11:03:01.293\u001b[0m | \u001b[1mINFO    \u001b[0m | \u001b[36msrc.datascience.utils.common\u001b[0m:\u001b[36mcreate_directories\u001b[0m:\u001b[36m51\u001b[0m - \u001b[1mcreated directory at: artifacts/model_trainer\u001b[0m\n",
      "\u001b[32m2025-04-06 11:03:01.302\u001b[0m | \u001b[34m\u001b[1mDEBUG   \u001b[0m | \u001b[36mipykernel.kernelbase\u001b[0m:\u001b[36mexecute_request\u001b[0m:\u001b[36m802\u001b[0m - \u001b[34m\u001b[1m{'header': {'msg_id': '72cbe922-8b95cd444f6bf161e7aacbe2_25286_92', 'msg_type': 'execute_reply', 'username': 'phuc.buidang', 'session': '72cbe922-8b95cd444f6bf161e7aacbe2', 'date': datetime.datetime(2025, 4, 6, 4, 3, 1, 302632, tzinfo=datetime.timezone.utc), 'version': '5.3'}, 'msg_id': '72cbe922-8b95cd444f6bf161e7aacbe2_25286_92', 'msg_type': 'execute_reply', 'parent_header': {'date': datetime.datetime(2025, 4, 6, 4, 3, 1, 285000, tzinfo=tzutc()), 'msg_id': 'ca4bc8da-8ab1-486c-b16c-deb6ee9f1201', 'msg_type': 'execute_request', 'session': 'e1c3e43e-bb5c-4065-8ab2-b05f2093729e', 'username': '82bd650b-4e46-4cea-b744-3fce9086a129', 'version': '5.2'}, 'content': {'status': 'ok', 'execution_count': 10, 'user_expressions': {}, 'payload': []}, 'metadata': {'started': datetime.datetime(2025, 4, 6, 4, 3, 1, 286853, tzinfo=datetime.timezone.utc), 'dependencies_met': True, 'engine': '232cdb24-9cb9-488e-99af-30d8d11e886e', 'status': 'ok'}, 'tracker': <zmq.sugar.tracker.MessageTracker object at 0x102d5a7f0>}\u001b[0m\n"
     ]
    }
   ],
   "source": [
    "try:\n",
    "    config = ConfigurationManager()\n",
    "    model_trainer_config = config.get_model_trainer_config()\n",
    "    model_trainer = ModelTrainer(config=model_trainer_config)\n",
    "    model_trainer.train()\n",
    "except Exception as e:\n",
    "    raise e"
   ]
  },
  {
   "cell_type": "code",
   "execution_count": null,
   "metadata": {},
   "outputs": [],
   "source": []
  }
 ],
 "metadata": {
  "kernelspec": {
   "display_name": "mlops",
   "language": "python",
   "name": "python3"
  },
  "language_info": {
   "codemirror_mode": {
    "name": "ipython",
    "version": 3
   },
   "file_extension": ".py",
   "mimetype": "text/x-python",
   "name": "python",
   "nbconvert_exporter": "python",
   "pygments_lexer": "ipython3",
   "version": "3.9.21"
  }
 },
 "nbformat": 4,
 "nbformat_minor": 2
}
