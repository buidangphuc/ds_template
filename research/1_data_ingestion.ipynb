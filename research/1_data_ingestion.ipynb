{
 "cells": [
  {
   "cell_type": "code",
   "execution_count": 1,
   "metadata": {},
   "outputs": [],
   "source": [
    "import os"
   ]
  },
  {
   "cell_type": "code",
   "execution_count": 2,
   "metadata": {},
   "outputs": [
    {
     "data": {
      "text/plain": [
       "'/Users/phuc.buidang/Documents/Learn/Projects/basics_ds_project/research'"
      ]
     },
     "execution_count": 2,
     "metadata": {},
     "output_type": "execute_result"
    }
   ],
   "source": [
    "%pwd"
   ]
  },
  {
   "cell_type": "code",
   "execution_count": 3,
   "metadata": {},
   "outputs": [
    {
     "data": {
      "text/plain": [
       "'/Users/phuc.buidang/Documents/Learn/Projects/basics_ds_project'"
      ]
     },
     "execution_count": 3,
     "metadata": {},
     "output_type": "execute_result"
    }
   ],
   "source": [
    "os.chdir(\"../\")\n",
    "%pwd"
   ]
  },
  {
   "cell_type": "code",
   "execution_count": 4,
   "metadata": {},
   "outputs": [],
   "source": [
    "from dataclasses import dataclass\n",
    "from pathlib import Path\n",
    "\n",
    "\n",
    "@dataclass\n",
    "class DataIngestionConfig:\n",
    "    root_dir: Path\n",
    "    source_URL: str\n",
    "    local_data_file: Path\n",
    "    unzip_dir: Path"
   ]
  },
  {
   "cell_type": "code",
   "execution_count": 5,
   "metadata": {},
   "outputs": [
    {
     "name": "stderr",
     "output_type": "stream",
     "text": [
      "\u001b[32m2025-04-06 09:51:36.184\u001b[0m | \u001b[34m\u001b[1mDEBUG   \u001b[0m | \u001b[36mipykernel.kernelbase\u001b[0m:\u001b[36mexecute_request\u001b[0m:\u001b[36m802\u001b[0m - \u001b[34m\u001b[1m{'header': {'msg_id': '084bb30c-707cd6523d42095d6d7181fb_96945_66', 'msg_type': 'execute_reply', 'username': 'phuc.buidang', 'session': '084bb30c-707cd6523d42095d6d7181fb', 'date': datetime.datetime(2025, 4, 6, 2, 51, 36, 183785, tzinfo=datetime.timezone.utc), 'version': '5.3'}, 'msg_id': '084bb30c-707cd6523d42095d6d7181fb_96945_66', 'msg_type': 'execute_reply', 'parent_header': {'date': datetime.datetime(2025, 4, 6, 2, 51, 35, 319000, tzinfo=tzutc()), 'msg_id': '84b5e6fe-2fa4-4363-ab0e-93ca2cc22d5e', 'msg_type': 'execute_request', 'session': '8dd6fffd-abd5-4af1-9dca-60eb51e95a79', 'username': 'cb8abd6f-eb7d-411e-8135-99c5c4586de0', 'version': '5.2'}, 'content': {'status': 'ok', 'execution_count': 5, 'user_expressions': {}, 'payload': []}, 'metadata': {'started': datetime.datetime(2025, 4, 6, 2, 51, 35, 320834, tzinfo=datetime.timezone.utc), 'dependencies_met': True, 'engine': 'dd7f1d57-89ab-47ec-8ec3-6665ecccd9e6', 'status': 'ok'}, 'tracker': <zmq.sugar.tracker.MessageTracker object at 0x105eb2790>}\u001b[0m\n"
     ]
    }
   ],
   "source": [
    "from src.datascience.constants import *\n",
    "from src.datascience.utils.common import read_yaml, create_directories"
   ]
  },
  {
   "cell_type": "code",
   "execution_count": 13,
   "metadata": {},
   "outputs": [
    {
     "name": "stderr",
     "output_type": "stream",
     "text": [
      "\u001b[32m2025-04-06 09:53:44.143\u001b[0m | \u001b[34m\u001b[1mDEBUG   \u001b[0m | \u001b[36mipykernel.kernelbase\u001b[0m:\u001b[36mdispatch_shell\u001b[0m:\u001b[36m419\u001b[0m - \u001b[34m\u001b[1m\n",
      "*** MESSAGE TYPE:execute_request***\u001b[0m\n",
      "\u001b[32m2025-04-06 09:53:44.144\u001b[0m | \u001b[34m\u001b[1mDEBUG   \u001b[0m | \u001b[36mipykernel.kernelbase\u001b[0m:\u001b[36mdispatch_shell\u001b[0m:\u001b[36m420\u001b[0m - \u001b[34m\u001b[1m   Content: {'silent': False, 'store_history': True, 'user_expressions': {}, 'allow_stdin': True, 'stop_on_error': False, 'code': 'class ConfigurationManager:\\n    def __init__(\\n        self,\\n        config_filepath=CONFIG_FILE_PATH,\\n        params_filepath=PARAMS_FILE_PATH,\\n        schema_filepath=SCHEMA_FILE_PATH,\\n    ):\\n        self.config = read_yaml(config_filepath)\\n        # self.params = read_yaml(params_filepath)\\n        # self.schema = read_yaml(schema_filepath)\\n\\n        create_directories([self.config.artifacts_root])\\n\\n    def get_data_ingestion_config(self) -> DataIngestionConfig:\\n        config = self.config.data_ingestion\\n        create_directories([config.root_dir])\\n\\n        data_ingestion_config = DataIngestionConfig(\\n            root_dir=config.root_dir,\\n            source_URL=config.source_URL,\\n            local_data_file=config.local_data_file,\\n            unzip_dir=config.unzip_dir,\\n        )\\n        return data_ingestion_config'}\n",
      "   --->\n",
      "   \u001b[0m\n",
      "\u001b[32m2025-04-06 09:53:44.144\u001b[0m | \u001b[34m\u001b[1mDEBUG   \u001b[0m | \u001b[36mipykernel.kernelbase\u001b[0m:\u001b[36mdispatch_shell\u001b[0m:\u001b[36m429\u001b[0m - \u001b[34m\u001b[1mexecute_request: {'header': {'date': datetime.datetime(2025, 4, 6, 2, 53, 44, 142000, tzinfo=tzutc()), 'msg_id': 'c820030e-8aac-45ed-9fc7-0006e6298b15', 'msg_type': 'execute_request', 'session': '8dd6fffd-abd5-4af1-9dca-60eb51e95a79', 'username': 'cb8abd6f-eb7d-411e-8135-99c5c4586de0', 'version': '5.2'}, 'msg_id': 'c820030e-8aac-45ed-9fc7-0006e6298b15', 'msg_type': 'execute_request', 'parent_header': {}, 'metadata': {'cellId': 'vscode-notebook-cell:/Users/phuc.buidang/Documents/Learn/Projects/basics_ds_project/research/1_data_ingestion.ipynb#W6sZmlsZQ%3D%3D'}, 'content': {'silent': False, 'store_history': True, 'user_expressions': {}, 'allow_stdin': True, 'stop_on_error': False, 'code': 'class ConfigurationManager:\\n    def __init__(\\n        self,\\n        config_filepath=CONFIG_FILE_PATH,\\n        params_filepath=PARAMS_FILE_PATH,\\n        schema_filepath=SCHEMA_FILE_PATH,\\n    ):\\n        self.config = read_yaml(config_filepath)\\n        # self.params = read_yaml(params_filepath)\\n        # self.schema = read_yaml(schema_filepath)\\n\\n        create_directories([self.config.artifacts_root])\\n\\n    def get_data_ingestion_config(self) -> DataIngestionConfig:\\n        config = self.config.data_ingestion\\n        create_directories([config.root_dir])\\n\\n        data_ingestion_config = DataIngestionConfig(\\n            root_dir=config.root_dir,\\n            source_URL=config.source_URL,\\n            local_data_file=config.local_data_file,\\n            unzip_dir=config.unzip_dir,\\n        )\\n        return data_ingestion_config'}, 'buffers': []}\u001b[0m\n",
      "\u001b[32m2025-04-06 09:53:44.148\u001b[0m | \u001b[34m\u001b[1mDEBUG   \u001b[0m | \u001b[36mipykernel.kernelbase\u001b[0m:\u001b[36mexecute_request\u001b[0m:\u001b[36m802\u001b[0m - \u001b[34m\u001b[1m{'header': {'msg_id': '084bb30c-707cd6523d42095d6d7181fb_96945_203', 'msg_type': 'execute_reply', 'username': 'phuc.buidang', 'session': '084bb30c-707cd6523d42095d6d7181fb', 'date': datetime.datetime(2025, 4, 6, 2, 53, 44, 148383, tzinfo=datetime.timezone.utc), 'version': '5.3'}, 'msg_id': '084bb30c-707cd6523d42095d6d7181fb_96945_203', 'msg_type': 'execute_reply', 'parent_header': {'date': datetime.datetime(2025, 4, 6, 2, 53, 44, 142000, tzinfo=tzutc()), 'msg_id': 'c820030e-8aac-45ed-9fc7-0006e6298b15', 'msg_type': 'execute_request', 'session': '8dd6fffd-abd5-4af1-9dca-60eb51e95a79', 'username': 'cb8abd6f-eb7d-411e-8135-99c5c4586de0', 'version': '5.2'}, 'content': {'status': 'ok', 'execution_count': 13, 'user_expressions': {}, 'payload': []}, 'metadata': {'started': datetime.datetime(2025, 4, 6, 2, 53, 44, 145051, tzinfo=datetime.timezone.utc), 'dependencies_met': True, 'engine': 'dd7f1d57-89ab-47ec-8ec3-6665ecccd9e6', 'status': 'ok'}, 'tracker': <zmq.sugar.tracker.MessageTracker object at 0x105eb2790>}\u001b[0m\n"
     ]
    }
   ],
   "source": [
    "class ConfigurationManager:\n",
    "    def __init__(\n",
    "        self,\n",
    "        config_filepath=CONFIG_FILE_PATH,\n",
    "        params_filepath=PARAMS_FILE_PATH,\n",
    "        schema_filepath=SCHEMA_FILE_PATH,\n",
    "    ):\n",
    "        self.config = read_yaml(config_filepath)\n",
    "        # self.params = read_yaml(params_filepath)\n",
    "        # self.schema = read_yaml(schema_filepath)\n",
    "\n",
    "        create_directories([self.config.artifacts_root])\n",
    "\n",
    "    def get_data_ingestion_config(self) -> DataIngestionConfig:\n",
    "        config = self.config.data_ingestion\n",
    "        create_directories([config.root_dir])\n",
    "\n",
    "        data_ingestion_config = DataIngestionConfig(\n",
    "            root_dir=config.root_dir,\n",
    "            source_URL=config.source_URL,\n",
    "            local_data_file=config.local_data_file,\n",
    "            unzip_dir=config.unzip_dir,\n",
    "        )\n",
    "        return data_ingestion_config"
   ]
  },
  {
   "cell_type": "code",
   "execution_count": 14,
   "metadata": {},
   "outputs": [
    {
     "name": "stderr",
     "output_type": "stream",
     "text": [
      "\u001b[32m2025-04-06 09:53:46.817\u001b[0m | \u001b[34m\u001b[1mDEBUG   \u001b[0m | \u001b[36mipykernel.kernelbase\u001b[0m:\u001b[36mdispatch_shell\u001b[0m:\u001b[36m419\u001b[0m - \u001b[34m\u001b[1m\n",
      "*** MESSAGE TYPE:execute_request***\u001b[0m\n",
      "\u001b[32m2025-04-06 09:53:46.818\u001b[0m | \u001b[34m\u001b[1mDEBUG   \u001b[0m | \u001b[36mipykernel.kernelbase\u001b[0m:\u001b[36mdispatch_shell\u001b[0m:\u001b[36m420\u001b[0m - \u001b[34m\u001b[1m   Content: {'silent': False, 'store_history': True, 'user_expressions': {}, 'allow_stdin': True, 'stop_on_error': False, 'code': 'import os\\nimport urllib.request as request\\nfrom src.datascience import log\\nimport zipfile'}\n",
      "   --->\n",
      "   \u001b[0m\n",
      "\u001b[32m2025-04-06 09:53:46.818\u001b[0m | \u001b[34m\u001b[1mDEBUG   \u001b[0m | \u001b[36mipykernel.kernelbase\u001b[0m:\u001b[36mdispatch_shell\u001b[0m:\u001b[36m429\u001b[0m - \u001b[34m\u001b[1mexecute_request: {'header': {'date': datetime.datetime(2025, 4, 6, 2, 53, 46, 816000, tzinfo=tzutc()), 'msg_id': '2e580e1d-a699-4b0f-8669-6a65054e9b78', 'msg_type': 'execute_request', 'session': '8dd6fffd-abd5-4af1-9dca-60eb51e95a79', 'username': 'cb8abd6f-eb7d-411e-8135-99c5c4586de0', 'version': '5.2'}, 'msg_id': '2e580e1d-a699-4b0f-8669-6a65054e9b78', 'msg_type': 'execute_request', 'parent_header': {}, 'metadata': {'cellId': 'vscode-notebook-cell:/Users/phuc.buidang/Documents/Learn/Projects/basics_ds_project/research/1_data_ingestion.ipynb#X10sZmlsZQ%3D%3D'}, 'content': {'silent': False, 'store_history': True, 'user_expressions': {}, 'allow_stdin': True, 'stop_on_error': False, 'code': 'import os\\nimport urllib.request as request\\nfrom src.datascience import log\\nimport zipfile'}, 'buffers': []}\u001b[0m\n",
      "\u001b[32m2025-04-06 09:53:46.821\u001b[0m | \u001b[34m\u001b[1mDEBUG   \u001b[0m | \u001b[36mipykernel.kernelbase\u001b[0m:\u001b[36mexecute_request\u001b[0m:\u001b[36m802\u001b[0m - \u001b[34m\u001b[1m{'header': {'msg_id': '084bb30c-707cd6523d42095d6d7181fb_96945_211', 'msg_type': 'execute_reply', 'username': 'phuc.buidang', 'session': '084bb30c-707cd6523d42095d6d7181fb', 'date': datetime.datetime(2025, 4, 6, 2, 53, 46, 821324, tzinfo=datetime.timezone.utc), 'version': '5.3'}, 'msg_id': '084bb30c-707cd6523d42095d6d7181fb_96945_211', 'msg_type': 'execute_reply', 'parent_header': {'date': datetime.datetime(2025, 4, 6, 2, 53, 46, 816000, tzinfo=tzutc()), 'msg_id': '2e580e1d-a699-4b0f-8669-6a65054e9b78', 'msg_type': 'execute_request', 'session': '8dd6fffd-abd5-4af1-9dca-60eb51e95a79', 'username': 'cb8abd6f-eb7d-411e-8135-99c5c4586de0', 'version': '5.2'}, 'content': {'status': 'ok', 'execution_count': 14, 'user_expressions': {}, 'payload': []}, 'metadata': {'started': datetime.datetime(2025, 4, 6, 2, 53, 46, 819104, tzinfo=datetime.timezone.utc), 'dependencies_met': True, 'engine': 'dd7f1d57-89ab-47ec-8ec3-6665ecccd9e6', 'status': 'ok'}, 'tracker': <zmq.sugar.tracker.MessageTracker object at 0x105eb2790>}\u001b[0m\n"
     ]
    }
   ],
   "source": [
    "import os\n",
    "import urllib.request as request\n",
    "from src.datascience import log\n",
    "import zipfile"
   ]
  },
  {
   "cell_type": "code",
   "execution_count": 15,
   "metadata": {},
   "outputs": [
    {
     "name": "stderr",
     "output_type": "stream",
     "text": [
      "\u001b[32m2025-04-06 09:53:48.840\u001b[0m | \u001b[34m\u001b[1mDEBUG   \u001b[0m | \u001b[36mipykernel.kernelbase\u001b[0m:\u001b[36mdispatch_shell\u001b[0m:\u001b[36m419\u001b[0m - \u001b[34m\u001b[1m\n",
      "*** MESSAGE TYPE:execute_request***\u001b[0m\n",
      "\u001b[32m2025-04-06 09:53:48.841\u001b[0m | \u001b[34m\u001b[1mDEBUG   \u001b[0m | \u001b[36mipykernel.kernelbase\u001b[0m:\u001b[36mdispatch_shell\u001b[0m:\u001b[36m420\u001b[0m - \u001b[34m\u001b[1m   Content: {'silent': False, 'store_history': True, 'user_expressions': {}, 'allow_stdin': True, 'stop_on_error': False, 'code': '## component-Data Ingestion\\n\\n\\nclass DataIngestion:\\n    def __init__(self, config: DataIngestionConfig):\\n        self.config = config\\n\\n    # Downloading the zip file\\n    def download_file(self):\\n        if not os.path.exists(self.config.local_data_file):\\n            filename, headers = request.urlretrieve(\\n                url=self.config.source_URL, filename=self.config.local_data_file\\n            )\\n            log.info(f\"{filename} download! with following info: \\\\n{headers}\")\\n        else:\\n            log.info(f\"File already exists\")\\n\\n    def extract_zip_file(self):\\n        \"\"\"\\n        zip_file_path: str\\n        Extracts the zip file into the data directory\\n        Function returns None\\n        \"\"\"\\n        unzip_path = self.config.unzip_dir\\n        os.makedirs(unzip_path, exist_ok=True)\\n        with zipfile.ZipFile(self.config.local_data_file, \"r\") as zip_ref:\\n            zip_ref.extractall(unzip_path)'}\n",
      "   --->\n",
      "   \u001b[0m\n",
      "\u001b[32m2025-04-06 09:53:48.841\u001b[0m | \u001b[34m\u001b[1mDEBUG   \u001b[0m | \u001b[36mipykernel.kernelbase\u001b[0m:\u001b[36mdispatch_shell\u001b[0m:\u001b[36m429\u001b[0m - \u001b[34m\u001b[1mexecute_request: {'header': {'date': datetime.datetime(2025, 4, 6, 2, 53, 48, 838000, tzinfo=tzutc()), 'msg_id': '5ed16402-12d8-425d-807a-203461e34b08', 'msg_type': 'execute_request', 'session': '8dd6fffd-abd5-4af1-9dca-60eb51e95a79', 'username': 'cb8abd6f-eb7d-411e-8135-99c5c4586de0', 'version': '5.2'}, 'msg_id': '5ed16402-12d8-425d-807a-203461e34b08', 'msg_type': 'execute_request', 'parent_header': {}, 'metadata': {'cellId': 'vscode-notebook-cell:/Users/phuc.buidang/Documents/Learn/Projects/basics_ds_project/research/1_data_ingestion.ipynb#X11sZmlsZQ%3D%3D'}, 'content': {'silent': False, 'store_history': True, 'user_expressions': {}, 'allow_stdin': True, 'stop_on_error': False, 'code': '## component-Data Ingestion\\n\\n\\nclass DataIngestion:\\n    def __init__(self, config: DataIngestionConfig):\\n        self.config = config\\n\\n    # Downloading the zip file\\n    def download_file(self):\\n        if not os.path.exists(self.config.local_data_file):\\n            filename, headers = request.urlretrieve(\\n                url=self.config.source_URL, filename=self.config.local_data_file\\n            )\\n            log.info(f\"{filename} download! with following info: \\\\n{headers}\")\\n        else:\\n            log.info(f\"File already exists\")\\n\\n    def extract_zip_file(self):\\n        \"\"\"\\n        zip_file_path: str\\n        Extracts the zip file into the data directory\\n        Function returns None\\n        \"\"\"\\n        unzip_path = self.config.unzip_dir\\n        os.makedirs(unzip_path, exist_ok=True)\\n        with zipfile.ZipFile(self.config.local_data_file, \"r\") as zip_ref:\\n            zip_ref.extractall(unzip_path)'}, 'buffers': []}\u001b[0m\n",
      "\u001b[32m2025-04-06 09:53:48.846\u001b[0m | \u001b[34m\u001b[1mDEBUG   \u001b[0m | \u001b[36mipykernel.kernelbase\u001b[0m:\u001b[36mexecute_request\u001b[0m:\u001b[36m802\u001b[0m - \u001b[34m\u001b[1m{'header': {'msg_id': '084bb30c-707cd6523d42095d6d7181fb_96945_219', 'msg_type': 'execute_reply', 'username': 'phuc.buidang', 'session': '084bb30c-707cd6523d42095d6d7181fb', 'date': datetime.datetime(2025, 4, 6, 2, 53, 48, 846185, tzinfo=datetime.timezone.utc), 'version': '5.3'}, 'msg_id': '084bb30c-707cd6523d42095d6d7181fb_96945_219', 'msg_type': 'execute_reply', 'parent_header': {'date': datetime.datetime(2025, 4, 6, 2, 53, 48, 838000, tzinfo=tzutc()), 'msg_id': '5ed16402-12d8-425d-807a-203461e34b08', 'msg_type': 'execute_request', 'session': '8dd6fffd-abd5-4af1-9dca-60eb51e95a79', 'username': 'cb8abd6f-eb7d-411e-8135-99c5c4586de0', 'version': '5.2'}, 'content': {'status': 'ok', 'execution_count': 15, 'user_expressions': {}, 'payload': []}, 'metadata': {'started': datetime.datetime(2025, 4, 6, 2, 53, 48, 842423, tzinfo=datetime.timezone.utc), 'dependencies_met': True, 'engine': 'dd7f1d57-89ab-47ec-8ec3-6665ecccd9e6', 'status': 'ok'}, 'tracker': <zmq.sugar.tracker.MessageTracker object at 0x105eb2790>}\u001b[0m\n"
     ]
    }
   ],
   "source": [
    "## component-Data Ingestion\n",
    "\n",
    "\n",
    "class DataIngestion:\n",
    "    def __init__(self, config: DataIngestionConfig):\n",
    "        self.config = config\n",
    "\n",
    "    # Downloading the zip file\n",
    "    def download_file(self):\n",
    "        if not os.path.exists(self.config.local_data_file):\n",
    "            filename, headers = request.urlretrieve(\n",
    "                url=self.config.source_URL, filename=self.config.local_data_file\n",
    "            )\n",
    "            log.info(f\"{filename} download! with following info: \\n{headers}\")\n",
    "        else:\n",
    "            log.info(\"File already exists\")\n",
    "\n",
    "    def extract_zip_file(self):\n",
    "        \"\"\"\n",
    "        zip_file_path: str\n",
    "        Extracts the zip file into the data directory\n",
    "        Function returns None\n",
    "        \"\"\"\n",
    "        unzip_path = self.config.unzip_dir\n",
    "        os.makedirs(unzip_path, exist_ok=True)\n",
    "        with zipfile.ZipFile(self.config.local_data_file, \"r\") as zip_ref:\n",
    "            zip_ref.extractall(unzip_path)"
   ]
  },
  {
   "cell_type": "code",
   "execution_count": 16,
   "metadata": {},
   "outputs": [
    {
     "name": "stderr",
     "output_type": "stream",
     "text": [
      "\u001b[32m2025-04-06 09:53:51.061\u001b[0m | \u001b[34m\u001b[1mDEBUG   \u001b[0m | \u001b[36mipykernel.kernelbase\u001b[0m:\u001b[36mdispatch_shell\u001b[0m:\u001b[36m419\u001b[0m - \u001b[34m\u001b[1m\n",
      "*** MESSAGE TYPE:execute_request***\u001b[0m\n",
      "\u001b[32m2025-04-06 09:53:51.062\u001b[0m | \u001b[34m\u001b[1mDEBUG   \u001b[0m | \u001b[36mipykernel.kernelbase\u001b[0m:\u001b[36mdispatch_shell\u001b[0m:\u001b[36m420\u001b[0m - \u001b[34m\u001b[1m   Content: {'silent': False, 'store_history': True, 'user_expressions': {}, 'allow_stdin': True, 'stop_on_error': False, 'code': 'try:\\n    config = ConfigurationManager()\\n    data_ingestion_config = config.get_data_ingestion_config()\\n    data_ingestion = DataIngestion(config=data_ingestion_config)\\n    data_ingestion.download_file()\\n    data_ingestion.extract_zip_file()\\nexcept Exception as e:\\n    raise e'}\n",
      "   --->\n",
      "   \u001b[0m\n",
      "\u001b[32m2025-04-06 09:53:51.062\u001b[0m | \u001b[34m\u001b[1mDEBUG   \u001b[0m | \u001b[36mipykernel.kernelbase\u001b[0m:\u001b[36mdispatch_shell\u001b[0m:\u001b[36m429\u001b[0m - \u001b[34m\u001b[1mexecute_request: {'header': {'date': datetime.datetime(2025, 4, 6, 2, 53, 51, 60000, tzinfo=tzutc()), 'msg_id': 'f61e712e-35ea-472f-9dd9-2bea57a6f189', 'msg_type': 'execute_request', 'session': '8dd6fffd-abd5-4af1-9dca-60eb51e95a79', 'username': 'cb8abd6f-eb7d-411e-8135-99c5c4586de0', 'version': '5.2'}, 'msg_id': 'f61e712e-35ea-472f-9dd9-2bea57a6f189', 'msg_type': 'execute_request', 'parent_header': {}, 'metadata': {'cellId': 'vscode-notebook-cell:/Users/phuc.buidang/Documents/Learn/Projects/basics_ds_project/research/1_data_ingestion.ipynb#X12sZmlsZQ%3D%3D'}, 'content': {'silent': False, 'store_history': True, 'user_expressions': {}, 'allow_stdin': True, 'stop_on_error': False, 'code': 'try:\\n    config = ConfigurationManager()\\n    data_ingestion_config = config.get_data_ingestion_config()\\n    data_ingestion = DataIngestion(config=data_ingestion_config)\\n    data_ingestion.download_file()\\n    data_ingestion.extract_zip_file()\\nexcept Exception as e:\\n    raise e'}, 'buffers': []}\u001b[0m\n",
      "\u001b[32m2025-04-06 09:53:51.065\u001b[0m | \u001b[1mINFO    \u001b[0m | \u001b[36msrc.datascience.utils.common\u001b[0m:\u001b[36mread_yaml\u001b[0m:\u001b[36m30\u001b[0m - \u001b[1myaml file: config/config.yaml loaded successfully\u001b[0m\n",
      "\u001b[32m2025-04-06 09:53:51.067\u001b[0m | \u001b[1mINFO    \u001b[0m | \u001b[36msrc.datascience.utils.common\u001b[0m:\u001b[36mcreate_directories\u001b[0m:\u001b[36m50\u001b[0m - \u001b[1mcreated directory at: artifacts\u001b[0m\n",
      "\u001b[32m2025-04-06 09:53:51.068\u001b[0m | \u001b[1mINFO    \u001b[0m | \u001b[36msrc.datascience.utils.common\u001b[0m:\u001b[36mcreate_directories\u001b[0m:\u001b[36m50\u001b[0m - \u001b[1mcreated directory at: artifacts/data_ingestion\u001b[0m\n",
      "\u001b[32m2025-04-06 09:53:52.092\u001b[0m | \u001b[1mINFO    \u001b[0m | \u001b[36m__main__\u001b[0m:\u001b[36mdownload_file\u001b[0m:\u001b[36m14\u001b[0m - \u001b[1martifacts/data_ingestion/data.zip download! with following info: \n",
      "Connection: close\n",
      "Content-Length: 23329\n",
      "Cache-Control: max-age=300\n",
      "Content-Security-Policy: default-src 'none'; style-src 'unsafe-inline'; sandbox\n",
      "Content-Type: application/zip\n",
      "ETag: \"c69888a4ae59bc5a893392785a938ccd4937981c06ba8a9d6a21aa52b4ab5b6e\"\n",
      "Strict-Transport-Security: max-age=31536000\n",
      "X-Content-Type-Options: nosniff\n",
      "X-Frame-Options: deny\n",
      "X-XSS-Protection: 1; mode=block\n",
      "X-GitHub-Request-Id: BD62:9EBD9:247CAF7:296AFD6:67F1ECBF\n",
      "Accept-Ranges: bytes\n",
      "Date: Sun, 06 Apr 2025 02:53:52 GMT\n",
      "Via: 1.1 varnish\n",
      "X-Served-By: cache-sin-wsss1830056-SIN\n",
      "X-Cache: MISS\n",
      "X-Cache-Hits: 0\n",
      "X-Timer: S1743908032.796700,VS0,VE330\n",
      "Vary: Authorization,Accept-Encoding,Origin\n",
      "Access-Control-Allow-Origin: *\n",
      "Cross-Origin-Resource-Policy: cross-origin\n",
      "X-Fastly-Request-ID: 74d347bd81d0ae475e4350e80c3a8f07ab6c363a\n",
      "Expires: Sun, 06 Apr 2025 02:58:52 GMT\n",
      "Source-Age: 0\n",
      "\n",
      "\u001b[0m\n",
      "\u001b[32m2025-04-06 09:53:52.110\u001b[0m | \u001b[34m\u001b[1mDEBUG   \u001b[0m | \u001b[36mipykernel.kernelbase\u001b[0m:\u001b[36mexecute_request\u001b[0m:\u001b[36m802\u001b[0m - \u001b[34m\u001b[1m{'header': {'msg_id': '084bb30c-707cd6523d42095d6d7181fb_96945_231', 'msg_type': 'execute_reply', 'username': 'phuc.buidang', 'session': '084bb30c-707cd6523d42095d6d7181fb', 'date': datetime.datetime(2025, 4, 6, 2, 53, 52, 110361, tzinfo=datetime.timezone.utc), 'version': '5.3'}, 'msg_id': '084bb30c-707cd6523d42095d6d7181fb_96945_231', 'msg_type': 'execute_reply', 'parent_header': {'date': datetime.datetime(2025, 4, 6, 2, 53, 51, 60000, tzinfo=tzutc()), 'msg_id': 'f61e712e-35ea-472f-9dd9-2bea57a6f189', 'msg_type': 'execute_request', 'session': '8dd6fffd-abd5-4af1-9dca-60eb51e95a79', 'username': 'cb8abd6f-eb7d-411e-8135-99c5c4586de0', 'version': '5.2'}, 'content': {'status': 'ok', 'execution_count': 16, 'user_expressions': {}, 'payload': []}, 'metadata': {'started': datetime.datetime(2025, 4, 6, 2, 53, 51, 62645, tzinfo=datetime.timezone.utc), 'dependencies_met': True, 'engine': 'dd7f1d57-89ab-47ec-8ec3-6665ecccd9e6', 'status': 'ok'}, 'tracker': <zmq.sugar.tracker.MessageTracker object at 0x105eb2790>}\u001b[0m\n"
     ]
    }
   ],
   "source": [
    "try:\n",
    "    config = ConfigurationManager()\n",
    "    data_ingestion_config = config.get_data_ingestion_config()\n",
    "    data_ingestion = DataIngestion(config=data_ingestion_config)\n",
    "    data_ingestion.download_file()\n",
    "    data_ingestion.extract_zip_file()\n",
    "except Exception as e:\n",
    "    raise e"
   ]
  },
  {
   "cell_type": "code",
   "execution_count": null,
   "metadata": {},
   "outputs": [],
   "source": []
  }
 ],
 "metadata": {
  "kernelspec": {
   "display_name": "Python (basics_ds_project)",
   "language": "python",
   "name": "basics_ds_project"
  },
  "language_info": {
   "codemirror_mode": {
    "name": "ipython",
    "version": 3
   },
   "file_extension": ".py",
   "mimetype": "text/x-python",
   "name": "python",
   "nbconvert_exporter": "python",
   "pygments_lexer": "ipython3",
   "version": "3.9.21"
  }
 },
 "nbformat": 4,
 "nbformat_minor": 2
}
