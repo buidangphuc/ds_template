{
 "cells": [
  {
   "cell_type": "code",
   "execution_count": 1,
   "metadata": {},
   "outputs": [],
   "source": [
    "import os"
   ]
  },
  {
   "cell_type": "code",
   "execution_count": 2,
   "metadata": {},
   "outputs": [
    {
     "data": {
      "text/plain": [
       "'/Users/phuc.buidang/Documents/Learn/Projects/basics_ds_project/research'"
      ]
     },
     "execution_count": 2,
     "metadata": {},
     "output_type": "execute_result"
    }
   ],
   "source": [
    "%pwd"
   ]
  },
  {
   "cell_type": "code",
   "execution_count": 3,
   "metadata": {},
   "outputs": [],
   "source": [
    "os.chdir(\"../\")"
   ]
  },
  {
   "cell_type": "code",
   "execution_count": 4,
   "metadata": {},
   "outputs": [
    {
     "data": {
      "text/plain": [
       "'/Users/phuc.buidang/Documents/Learn/Projects/basics_ds_project'"
      ]
     },
     "execution_count": 4,
     "metadata": {},
     "output_type": "execute_result"
    }
   ],
   "source": [
    "%pwd"
   ]
  },
  {
   "cell_type": "code",
   "execution_count": 5,
   "metadata": {},
   "outputs": [],
   "source": [
    "from dataclasses import dataclass\n",
    "from pathlib import Path\n",
    "\n",
    "\n",
    "@dataclass(frozen=True)\n",
    "class DataTransformationConfig:\n",
    "    root_dir: Path\n",
    "    data_path: Path"
   ]
  },
  {
   "cell_type": "code",
   "execution_count": 6,
   "metadata": {},
   "outputs": [
    {
     "name": "stderr",
     "output_type": "stream",
     "text": [
      "\u001b[32m2025-04-06 11:01:46.211\u001b[0m | \u001b[34m\u001b[1mDEBUG   \u001b[0m | \u001b[36mipykernel.kernelbase\u001b[0m:\u001b[36mexecute_request\u001b[0m:\u001b[36m802\u001b[0m - \u001b[34m\u001b[1m{'header': {'msg_id': 'fa565d19-72ec36b6d0735eb02a1cd860_24786_55', 'msg_type': 'execute_reply', 'username': 'phuc.buidang', 'session': 'fa565d19-72ec36b6d0735eb02a1cd860', 'date': datetime.datetime(2025, 4, 6, 4, 1, 46, 211422, tzinfo=datetime.timezone.utc), 'version': '5.3'}, 'msg_id': 'fa565d19-72ec36b6d0735eb02a1cd860_24786_55', 'msg_type': 'execute_reply', 'parent_header': {'date': datetime.datetime(2025, 4, 6, 4, 1, 46, 77000, tzinfo=tzutc()), 'msg_id': 'bc971163-45e2-4e69-8365-0bd547456202', 'msg_type': 'execute_request', 'session': '29532250-7308-4a27-af03-f2d6ae80b81b', 'username': '265dd8f7-95c6-4d6e-b824-8e8a697a2ec8', 'version': '5.2'}, 'content': {'status': 'ok', 'execution_count': 6, 'user_expressions': {}, 'payload': []}, 'metadata': {'started': datetime.datetime(2025, 4, 6, 4, 1, 46, 77766, tzinfo=datetime.timezone.utc), 'dependencies_met': True, 'engine': '3b79feca-3d2a-4965-802b-c2fb39c733bb', 'status': 'ok'}, 'tracker': <zmq.sugar.tracker.MessageTracker object at 0x103b267f0>}\u001b[0m\n"
     ]
    }
   ],
   "source": [
    "from src.datascience.constants import *\n",
    "from src.datascience.utils.common import read_yaml, create_directories"
   ]
  },
  {
   "cell_type": "code",
   "execution_count": 7,
   "metadata": {},
   "outputs": [
    {
     "name": "stderr",
     "output_type": "stream",
     "text": [
      "\u001b[32m2025-04-06 11:01:46.213\u001b[0m | \u001b[34m\u001b[1mDEBUG   \u001b[0m | \u001b[36mipykernel.kernelbase\u001b[0m:\u001b[36mdispatch_shell\u001b[0m:\u001b[36m419\u001b[0m - \u001b[34m\u001b[1m\n",
      "*** MESSAGE TYPE:execute_request***\u001b[0m\n",
      "\u001b[32m2025-04-06 11:01:46.213\u001b[0m | \u001b[34m\u001b[1mDEBUG   \u001b[0m | \u001b[36mipykernel.kernelbase\u001b[0m:\u001b[36mdispatch_shell\u001b[0m:\u001b[36m420\u001b[0m - \u001b[34m\u001b[1m   Content: {'silent': False, 'store_history': True, 'user_expressions': {}, 'allow_stdin': True, 'stop_on_error': False, 'code': 'class ConfigurationManager:\\n    def __init__(\\n        self,\\n        config_filepath=CONFIG_FILE_PATH,\\n        params_filepath=PARAMS_FILE_PATH,\\n        schema_filepath=SCHEMA_FILE_PATH,\\n    ):\\n\\n        self.config = read_yaml(config_filepath)\\n        # self.params = read_yaml(params_filepath)\\n        self.schema = read_yaml(schema_filepath)\\n\\n        create_directories([self.config.artifacts_root])\\n\\n    def get_data_transformation_config(self) -> DataTransformationConfig:\\n        config = self.config.data_transformation\\n\\n        create_directories([config.root_dir])\\n\\n        data_transformation_config = DataTransformationConfig(\\n            root_dir=config.root_dir,\\n            data_path=config.data_path,\\n        )\\n\\n        return data_transformation_config'}\n",
      "   --->\n",
      "   \u001b[0m\n",
      "\u001b[32m2025-04-06 11:01:46.214\u001b[0m | \u001b[34m\u001b[1mDEBUG   \u001b[0m | \u001b[36mipykernel.kernelbase\u001b[0m:\u001b[36mdispatch_shell\u001b[0m:\u001b[36m429\u001b[0m - \u001b[34m\u001b[1mexecute_request: {'header': {'date': datetime.datetime(2025, 4, 6, 4, 1, 46, 213000, tzinfo=tzutc()), 'msg_id': 'f5acdc44-d67a-411f-991a-96d6a938f7b8', 'msg_type': 'execute_request', 'session': '29532250-7308-4a27-af03-f2d6ae80b81b', 'username': '265dd8f7-95c6-4d6e-b824-8e8a697a2ec8', 'version': '5.2'}, 'msg_id': 'f5acdc44-d67a-411f-991a-96d6a938f7b8', 'msg_type': 'execute_request', 'parent_header': {}, 'metadata': {'cellId': 'vscode-notebook-cell:/Users/phuc.buidang/Documents/Learn/Projects/basics_ds_project/research/3_data_transformation.ipynb#W6sZmlsZQ%3D%3D'}, 'content': {'silent': False, 'store_history': True, 'user_expressions': {}, 'allow_stdin': True, 'stop_on_error': False, 'code': 'class ConfigurationManager:\\n    def __init__(\\n        self,\\n        config_filepath=CONFIG_FILE_PATH,\\n        params_filepath=PARAMS_FILE_PATH,\\n        schema_filepath=SCHEMA_FILE_PATH,\\n    ):\\n\\n        self.config = read_yaml(config_filepath)\\n        # self.params = read_yaml(params_filepath)\\n        self.schema = read_yaml(schema_filepath)\\n\\n        create_directories([self.config.artifacts_root])\\n\\n    def get_data_transformation_config(self) -> DataTransformationConfig:\\n        config = self.config.data_transformation\\n\\n        create_directories([config.root_dir])\\n\\n        data_transformation_config = DataTransformationConfig(\\n            root_dir=config.root_dir,\\n            data_path=config.data_path,\\n        )\\n\\n        return data_transformation_config'}, 'buffers': []}\u001b[0m\n",
      "\u001b[32m2025-04-06 11:01:46.216\u001b[0m | \u001b[34m\u001b[1mDEBUG   \u001b[0m | \u001b[36mipykernel.kernelbase\u001b[0m:\u001b[36mexecute_request\u001b[0m:\u001b[36m802\u001b[0m - \u001b[34m\u001b[1m{'header': {'msg_id': 'fa565d19-72ec36b6d0735eb02a1cd860_24786_63', 'msg_type': 'execute_reply', 'username': 'phuc.buidang', 'session': 'fa565d19-72ec36b6d0735eb02a1cd860', 'date': datetime.datetime(2025, 4, 6, 4, 1, 46, 216479, tzinfo=datetime.timezone.utc), 'version': '5.3'}, 'msg_id': 'fa565d19-72ec36b6d0735eb02a1cd860_24786_63', 'msg_type': 'execute_reply', 'parent_header': {'date': datetime.datetime(2025, 4, 6, 4, 1, 46, 213000, tzinfo=tzutc()), 'msg_id': 'f5acdc44-d67a-411f-991a-96d6a938f7b8', 'msg_type': 'execute_request', 'session': '29532250-7308-4a27-af03-f2d6ae80b81b', 'username': '265dd8f7-95c6-4d6e-b824-8e8a697a2ec8', 'version': '5.2'}, 'content': {'status': 'ok', 'execution_count': 7, 'user_expressions': {}, 'payload': []}, 'metadata': {'started': datetime.datetime(2025, 4, 6, 4, 1, 46, 214329, tzinfo=datetime.timezone.utc), 'dependencies_met': True, 'engine': '3b79feca-3d2a-4965-802b-c2fb39c733bb', 'status': 'ok'}, 'tracker': <zmq.sugar.tracker.MessageTracker object at 0x103b267f0>}\u001b[0m\n"
     ]
    }
   ],
   "source": [
    "class ConfigurationManager:\n",
    "    def __init__(\n",
    "        self,\n",
    "        config_filepath=CONFIG_FILE_PATH,\n",
    "        params_filepath=PARAMS_FILE_PATH,\n",
    "        schema_filepath=SCHEMA_FILE_PATH,\n",
    "    ):\n",
    "\n",
    "        self.config = read_yaml(config_filepath)\n",
    "        # self.params = read_yaml(params_filepath)\n",
    "        self.schema = read_yaml(schema_filepath)\n",
    "\n",
    "        create_directories([self.config.artifacts_root])\n",
    "\n",
    "    def get_data_transformation_config(self) -> DataTransformationConfig:\n",
    "        config = self.config.data_transformation\n",
    "\n",
    "        create_directories([config.root_dir])\n",
    "\n",
    "        data_transformation_config = DataTransformationConfig(\n",
    "            root_dir=config.root_dir,\n",
    "            data_path=config.data_path,\n",
    "        )\n",
    "\n",
    "        return data_transformation_config"
   ]
  },
  {
   "cell_type": "code",
   "execution_count": 8,
   "metadata": {},
   "outputs": [
    {
     "name": "stderr",
     "output_type": "stream",
     "text": [
      "\u001b[32m2025-04-06 11:01:46.218\u001b[0m | \u001b[34m\u001b[1mDEBUG   \u001b[0m | \u001b[36mipykernel.kernelbase\u001b[0m:\u001b[36mdispatch_shell\u001b[0m:\u001b[36m419\u001b[0m - \u001b[34m\u001b[1m\n",
      "*** MESSAGE TYPE:execute_request***\u001b[0m\n",
      "\u001b[32m2025-04-06 11:01:46.218\u001b[0m | \u001b[34m\u001b[1mDEBUG   \u001b[0m | \u001b[36mipykernel.kernelbase\u001b[0m:\u001b[36mdispatch_shell\u001b[0m:\u001b[36m420\u001b[0m - \u001b[34m\u001b[1m   Content: {'silent': False, 'store_history': True, 'user_expressions': {}, 'allow_stdin': True, 'stop_on_error': False, 'code': 'import os\\nfrom src.datascience import log\\nfrom sklearn.model_selection import train_test_split\\nimport pandas as pd'}\n",
      "   --->\n",
      "   \u001b[0m\n",
      "\u001b[32m2025-04-06 11:01:46.218\u001b[0m | \u001b[34m\u001b[1mDEBUG   \u001b[0m | \u001b[36mipykernel.kernelbase\u001b[0m:\u001b[36mdispatch_shell\u001b[0m:\u001b[36m429\u001b[0m - \u001b[34m\u001b[1mexecute_request: {'header': {'date': datetime.datetime(2025, 4, 6, 4, 1, 46, 217000, tzinfo=tzutc()), 'msg_id': '385f6762-5a3f-46b7-90e4-a04af60b5fb3', 'msg_type': 'execute_request', 'session': '29532250-7308-4a27-af03-f2d6ae80b81b', 'username': '265dd8f7-95c6-4d6e-b824-8e8a697a2ec8', 'version': '5.2'}, 'msg_id': '385f6762-5a3f-46b7-90e4-a04af60b5fb3', 'msg_type': 'execute_request', 'parent_header': {}, 'metadata': {'cellId': 'vscode-notebook-cell:/Users/phuc.buidang/Documents/Learn/Projects/basics_ds_project/research/3_data_transformation.ipynb#X10sZmlsZQ%3D%3D'}, 'content': {'silent': False, 'store_history': True, 'user_expressions': {}, 'allow_stdin': True, 'stop_on_error': False, 'code': 'import os\\nfrom src.datascience import log\\nfrom sklearn.model_selection import train_test_split\\nimport pandas as pd'}, 'buffers': []}\u001b[0m\n",
      "\u001b[32m2025-04-06 11:01:47.311\u001b[0m | \u001b[34m\u001b[1mDEBUG   \u001b[0m | \u001b[36mipykernel.kernelbase\u001b[0m:\u001b[36mexecute_request\u001b[0m:\u001b[36m802\u001b[0m - \u001b[34m\u001b[1m{'header': {'msg_id': 'fa565d19-72ec36b6d0735eb02a1cd860_24786_71', 'msg_type': 'execute_reply', 'username': 'phuc.buidang', 'session': 'fa565d19-72ec36b6d0735eb02a1cd860', 'date': datetime.datetime(2025, 4, 6, 4, 1, 47, 311308, tzinfo=datetime.timezone.utc), 'version': '5.3'}, 'msg_id': 'fa565d19-72ec36b6d0735eb02a1cd860_24786_71', 'msg_type': 'execute_reply', 'parent_header': {'date': datetime.datetime(2025, 4, 6, 4, 1, 46, 217000, tzinfo=tzutc()), 'msg_id': '385f6762-5a3f-46b7-90e4-a04af60b5fb3', 'msg_type': 'execute_request', 'session': '29532250-7308-4a27-af03-f2d6ae80b81b', 'username': '265dd8f7-95c6-4d6e-b824-8e8a697a2ec8', 'version': '5.2'}, 'content': {'status': 'ok', 'execution_count': 8, 'user_expressions': {}, 'payload': []}, 'metadata': {'started': datetime.datetime(2025, 4, 6, 4, 1, 46, 219130, tzinfo=datetime.timezone.utc), 'dependencies_met': True, 'engine': '3b79feca-3d2a-4965-802b-c2fb39c733bb', 'status': 'ok'}, 'tracker': <zmq.sugar.tracker.MessageTracker object at 0x103b267f0>}\u001b[0m\n"
     ]
    }
   ],
   "source": [
    "import os\n",
    "from src.datascience import log\n",
    "from sklearn.model_selection import train_test_split\n",
    "import pandas as pd"
   ]
  },
  {
   "cell_type": "code",
   "execution_count": 9,
   "metadata": {},
   "outputs": [
    {
     "name": "stderr",
     "output_type": "stream",
     "text": [
      "\u001b[32m2025-04-06 11:01:47.313\u001b[0m | \u001b[34m\u001b[1mDEBUG   \u001b[0m | \u001b[36mipykernel.kernelbase\u001b[0m:\u001b[36mdispatch_shell\u001b[0m:\u001b[36m419\u001b[0m - \u001b[34m\u001b[1m\n",
      "*** MESSAGE TYPE:execute_request***\u001b[0m\n",
      "\u001b[32m2025-04-06 11:01:47.314\u001b[0m | \u001b[34m\u001b[1mDEBUG   \u001b[0m | \u001b[36mipykernel.kernelbase\u001b[0m:\u001b[36mdispatch_shell\u001b[0m:\u001b[36m420\u001b[0m - \u001b[34m\u001b[1m   Content: {'silent': False, 'store_history': True, 'user_expressions': {}, 'allow_stdin': True, 'stop_on_error': False, 'code': 'class DataTransformation:\\n    def __init__(self, config: DataTransformationConfig):\\n        self.config = config\\n\\n    ## Note: You can add different data transformation techniques such as Scaler, PCA and all\\n    # You can perform all kinds of EDA in ML cycle here before passing this data to the model\\n\\n    # I am only adding train_test_spliting cz this data is already cleaned up\\n\\n    def train_test_spliting(self):\\n        data = pd.read_csv(self.config.data_path)\\n\\n        # Split the data into training and test sets. (0.75, 0.25) split.\\n        train, test = train_test_split(data)\\n\\n        train.to_csv(os.path.join(self.config.root_dir, \"train.csv\"), index=False)\\n        test.to_csv(os.path.join(self.config.root_dir, \"test.csv\"), index=False)\\n\\n        log.info(\"Splited data into training and test sets\")\\n        log.info(train.shape)\\n        log.info(test.shape)\\n\\n        print(train.shape)\\n        print(test.shape)'}\n",
      "   --->\n",
      "   \u001b[0m\n",
      "\u001b[32m2025-04-06 11:01:47.314\u001b[0m | \u001b[34m\u001b[1mDEBUG   \u001b[0m | \u001b[36mipykernel.kernelbase\u001b[0m:\u001b[36mdispatch_shell\u001b[0m:\u001b[36m429\u001b[0m - \u001b[34m\u001b[1mexecute_request: {'header': {'date': datetime.datetime(2025, 4, 6, 4, 1, 47, 313000, tzinfo=tzutc()), 'msg_id': '87ccc69c-20b3-4539-9049-e74829dc7ae9', 'msg_type': 'execute_request', 'session': '29532250-7308-4a27-af03-f2d6ae80b81b', 'username': '265dd8f7-95c6-4d6e-b824-8e8a697a2ec8', 'version': '5.2'}, 'msg_id': '87ccc69c-20b3-4539-9049-e74829dc7ae9', 'msg_type': 'execute_request', 'parent_header': {}, 'metadata': {'cellId': 'vscode-notebook-cell:/Users/phuc.buidang/Documents/Learn/Projects/basics_ds_project/research/3_data_transformation.ipynb#X11sZmlsZQ%3D%3D'}, 'content': {'silent': False, 'store_history': True, 'user_expressions': {}, 'allow_stdin': True, 'stop_on_error': False, 'code': 'class DataTransformation:\\n    def __init__(self, config: DataTransformationConfig):\\n        self.config = config\\n\\n    ## Note: You can add different data transformation techniques such as Scaler, PCA and all\\n    # You can perform all kinds of EDA in ML cycle here before passing this data to the model\\n\\n    # I am only adding train_test_spliting cz this data is already cleaned up\\n\\n    def train_test_spliting(self):\\n        data = pd.read_csv(self.config.data_path)\\n\\n        # Split the data into training and test sets. (0.75, 0.25) split.\\n        train, test = train_test_split(data)\\n\\n        train.to_csv(os.path.join(self.config.root_dir, \"train.csv\"), index=False)\\n        test.to_csv(os.path.join(self.config.root_dir, \"test.csv\"), index=False)\\n\\n        log.info(\"Splited data into training and test sets\")\\n        log.info(train.shape)\\n        log.info(test.shape)\\n\\n        print(train.shape)\\n        print(test.shape)'}, 'buffers': []}\u001b[0m\n",
      "\u001b[32m2025-04-06 11:01:47.317\u001b[0m | \u001b[34m\u001b[1mDEBUG   \u001b[0m | \u001b[36mipykernel.kernelbase\u001b[0m:\u001b[36mexecute_request\u001b[0m:\u001b[36m802\u001b[0m - \u001b[34m\u001b[1m{'header': {'msg_id': 'fa565d19-72ec36b6d0735eb02a1cd860_24786_79', 'msg_type': 'execute_reply', 'username': 'phuc.buidang', 'session': 'fa565d19-72ec36b6d0735eb02a1cd860', 'date': datetime.datetime(2025, 4, 6, 4, 1, 47, 317401, tzinfo=datetime.timezone.utc), 'version': '5.3'}, 'msg_id': 'fa565d19-72ec36b6d0735eb02a1cd860_24786_79', 'msg_type': 'execute_reply', 'parent_header': {'date': datetime.datetime(2025, 4, 6, 4, 1, 47, 313000, tzinfo=tzutc()), 'msg_id': '87ccc69c-20b3-4539-9049-e74829dc7ae9', 'msg_type': 'execute_request', 'session': '29532250-7308-4a27-af03-f2d6ae80b81b', 'username': '265dd8f7-95c6-4d6e-b824-8e8a697a2ec8', 'version': '5.2'}, 'content': {'status': 'ok', 'execution_count': 9, 'user_expressions': {}, 'payload': []}, 'metadata': {'started': datetime.datetime(2025, 4, 6, 4, 1, 47, 314747, tzinfo=datetime.timezone.utc), 'dependencies_met': True, 'engine': '3b79feca-3d2a-4965-802b-c2fb39c733bb', 'status': 'ok'}, 'tracker': <zmq.sugar.tracker.MessageTracker object at 0x103b267f0>}\u001b[0m\n"
     ]
    }
   ],
   "source": [
    "class DataTransformation:\n",
    "    def __init__(self, config: DataTransformationConfig):\n",
    "        self.config = config\n",
    "\n",
    "    ## Note: You can add different data transformation techniques such as Scaler, PCA and all\n",
    "    # You can perform all kinds of EDA in ML cycle here before passing this data to the model\n",
    "\n",
    "    # I am only adding train_test_spliting cz this data is already cleaned up\n",
    "\n",
    "    def train_test_spliting(self):\n",
    "        data = pd.read_csv(self.config.data_path)\n",
    "\n",
    "        # Split the data into training and test sets. (0.75, 0.25) split.\n",
    "        train, test = train_test_split(data)\n",
    "\n",
    "        train.to_csv(os.path.join(self.config.root_dir, \"train.csv\"), index=False)\n",
    "        test.to_csv(os.path.join(self.config.root_dir, \"test.csv\"), index=False)\n",
    "\n",
    "        log.info(\"Splited data into training and test sets\")\n",
    "        log.info(train.shape)\n",
    "        log.info(test.shape)\n",
    "\n",
    "        print(train.shape)\n",
    "        print(test.shape)"
   ]
  },
  {
   "cell_type": "code",
   "execution_count": 10,
   "metadata": {},
   "outputs": [
    {
     "name": "stderr",
     "output_type": "stream",
     "text": [
      "\u001b[32m2025-04-06 11:01:47.320\u001b[0m | \u001b[34m\u001b[1mDEBUG   \u001b[0m | \u001b[36mipykernel.kernelbase\u001b[0m:\u001b[36mdispatch_shell\u001b[0m:\u001b[36m419\u001b[0m - \u001b[34m\u001b[1m\n",
      "*** MESSAGE TYPE:execute_request***\u001b[0m\n",
      "\u001b[32m2025-04-06 11:01:47.320\u001b[0m | \u001b[34m\u001b[1mDEBUG   \u001b[0m | \u001b[36mipykernel.kernelbase\u001b[0m:\u001b[36mdispatch_shell\u001b[0m:\u001b[36m420\u001b[0m - \u001b[34m\u001b[1m   Content: {'silent': False, 'store_history': True, 'user_expressions': {}, 'allow_stdin': True, 'stop_on_error': False, 'code': 'try:\\n    config = ConfigurationManager()\\n    data_transformation_config = config.get_data_transformation_config()\\n    data_transformation = DataTransformation(config=data_transformation_config)\\n    data_transformation.train_test_spliting()\\nexcept Exception as e:\\n    raise e'}\n",
      "   --->\n",
      "   \u001b[0m\n",
      "\u001b[32m2025-04-06 11:01:47.321\u001b[0m | \u001b[34m\u001b[1mDEBUG   \u001b[0m | \u001b[36mipykernel.kernelbase\u001b[0m:\u001b[36mdispatch_shell\u001b[0m:\u001b[36m429\u001b[0m - \u001b[34m\u001b[1mexecute_request: {'header': {'date': datetime.datetime(2025, 4, 6, 4, 1, 47, 319000, tzinfo=tzutc()), 'msg_id': '0d3788f0-22fb-40a1-acfa-d51388f357df', 'msg_type': 'execute_request', 'session': '29532250-7308-4a27-af03-f2d6ae80b81b', 'username': '265dd8f7-95c6-4d6e-b824-8e8a697a2ec8', 'version': '5.2'}, 'msg_id': '0d3788f0-22fb-40a1-acfa-d51388f357df', 'msg_type': 'execute_request', 'parent_header': {}, 'metadata': {'cellId': 'vscode-notebook-cell:/Users/phuc.buidang/Documents/Learn/Projects/basics_ds_project/research/3_data_transformation.ipynb#X12sZmlsZQ%3D%3D'}, 'content': {'silent': False, 'store_history': True, 'user_expressions': {}, 'allow_stdin': True, 'stop_on_error': False, 'code': 'try:\\n    config = ConfigurationManager()\\n    data_transformation_config = config.get_data_transformation_config()\\n    data_transformation = DataTransformation(config=data_transformation_config)\\n    data_transformation.train_test_spliting()\\nexcept Exception as e:\\n    raise e'}, 'buffers': []}\u001b[0m\n",
      "\u001b[32m2025-04-06 11:01:47.323\u001b[0m | \u001b[1mINFO    \u001b[0m | \u001b[36msrc.datascience.utils.common\u001b[0m:\u001b[36mread_yaml\u001b[0m:\u001b[36m32\u001b[0m - \u001b[1myaml file: config/config.yaml loaded successfully\u001b[0m\n",
      "\u001b[32m2025-04-06 11:01:47.325\u001b[0m | \u001b[1mINFO    \u001b[0m | \u001b[36msrc.datascience.utils.common\u001b[0m:\u001b[36mread_yaml\u001b[0m:\u001b[36m32\u001b[0m - \u001b[1myaml file: schema.yaml loaded successfully\u001b[0m\n",
      "\u001b[32m2025-04-06 11:01:47.326\u001b[0m | \u001b[1mINFO    \u001b[0m | \u001b[36msrc.datascience.utils.common\u001b[0m:\u001b[36mcreate_directories\u001b[0m:\u001b[36m51\u001b[0m - \u001b[1mcreated directory at: artifacts\u001b[0m\n",
      "\u001b[32m2025-04-06 11:01:47.327\u001b[0m | \u001b[1mINFO    \u001b[0m | \u001b[36msrc.datascience.utils.common\u001b[0m:\u001b[36mcreate_directories\u001b[0m:\u001b[36m51\u001b[0m - \u001b[1mcreated directory at: artifacts/data_transformation\u001b[0m\n",
      "\u001b[32m2025-04-06 11:01:47.347\u001b[0m | \u001b[1mINFO    \u001b[0m | \u001b[36m__main__\u001b[0m:\u001b[36mtrain_test_spliting\u001b[0m:\u001b[36m19\u001b[0m - \u001b[1mSplited data into training and test sets\u001b[0m\n",
      "\u001b[32m2025-04-06 11:01:47.348\u001b[0m | \u001b[1mINFO    \u001b[0m | \u001b[36m__main__\u001b[0m:\u001b[36mtrain_test_spliting\u001b[0m:\u001b[36m20\u001b[0m - \u001b[1m(1199, 12)\u001b[0m\n",
      "\u001b[32m2025-04-06 11:01:47.348\u001b[0m | \u001b[1mINFO    \u001b[0m | \u001b[36m__main__\u001b[0m:\u001b[36mtrain_test_spliting\u001b[0m:\u001b[36m21\u001b[0m - \u001b[1m(400, 12)\u001b[0m\n"
     ]
    },
    {
     "name": "stdout",
     "output_type": "stream",
     "text": [
      "(1199, 12)\n",
      "(400, 12)\n"
     ]
    },
    {
     "name": "stderr",
     "output_type": "stream",
     "text": [
      "\u001b[32m2025-04-06 11:01:47.350\u001b[0m | \u001b[34m\u001b[1mDEBUG   \u001b[0m | \u001b[36mipykernel.kernelbase\u001b[0m:\u001b[36mexecute_request\u001b[0m:\u001b[36m802\u001b[0m - \u001b[34m\u001b[1m{'header': {'msg_id': 'fa565d19-72ec36b6d0735eb02a1cd860_24786_95', 'msg_type': 'execute_reply', 'username': 'phuc.buidang', 'session': 'fa565d19-72ec36b6d0735eb02a1cd860', 'date': datetime.datetime(2025, 4, 6, 4, 1, 47, 350313, tzinfo=datetime.timezone.utc), 'version': '5.3'}, 'msg_id': 'fa565d19-72ec36b6d0735eb02a1cd860_24786_95', 'msg_type': 'execute_reply', 'parent_header': {'date': datetime.datetime(2025, 4, 6, 4, 1, 47, 319000, tzinfo=tzutc()), 'msg_id': '0d3788f0-22fb-40a1-acfa-d51388f357df', 'msg_type': 'execute_request', 'session': '29532250-7308-4a27-af03-f2d6ae80b81b', 'username': '265dd8f7-95c6-4d6e-b824-8e8a697a2ec8', 'version': '5.2'}, 'content': {'status': 'ok', 'execution_count': 10, 'user_expressions': {}, 'payload': []}, 'metadata': {'started': datetime.datetime(2025, 4, 6, 4, 1, 47, 321299, tzinfo=datetime.timezone.utc), 'dependencies_met': True, 'engine': '3b79feca-3d2a-4965-802b-c2fb39c733bb', 'status': 'ok'}, 'tracker': <zmq.sugar.tracker.MessageTracker object at 0x103b267f0>}\u001b[0m\n"
     ]
    }
   ],
   "source": [
    "try:\n",
    "    config = ConfigurationManager()\n",
    "    data_transformation_config = config.get_data_transformation_config()\n",
    "    data_transformation = DataTransformation(config=data_transformation_config)\n",
    "    data_transformation.train_test_spliting()\n",
    "except Exception as e:\n",
    "    raise e"
   ]
  },
  {
   "cell_type": "code",
   "execution_count": 11,
   "metadata": {},
   "outputs": [
    {
     "name": "stderr",
     "output_type": "stream",
     "text": [
      "\u001b[32m2025-04-06 11:01:47.352\u001b[0m | \u001b[34m\u001b[1mDEBUG   \u001b[0m | \u001b[36mipykernel.kernelbase\u001b[0m:\u001b[36mdispatch_shell\u001b[0m:\u001b[36m419\u001b[0m - \u001b[34m\u001b[1m\n",
      "*** MESSAGE TYPE:execute_request***\u001b[0m\n",
      "\u001b[32m2025-04-06 11:01:47.352\u001b[0m | \u001b[34m\u001b[1mDEBUG   \u001b[0m | \u001b[36mipykernel.kernelbase\u001b[0m:\u001b[36mdispatch_shell\u001b[0m:\u001b[36m420\u001b[0m - \u001b[34m\u001b[1m   Content: {'silent': False, 'store_history': True, 'user_expressions': {}, 'allow_stdin': True, 'stop_on_error': False, 'code': 'with open(Path(\"artifacts/data_validation/status.txt\"), \"r\") as f:\\n    status = f.read().split(\" \")[-1]\\n    print(status)'}\n",
      "   --->\n",
      "   \u001b[0m\n",
      "\u001b[32m2025-04-06 11:01:47.353\u001b[0m | \u001b[34m\u001b[1mDEBUG   \u001b[0m | \u001b[36mipykernel.kernelbase\u001b[0m:\u001b[36mdispatch_shell\u001b[0m:\u001b[36m429\u001b[0m - \u001b[34m\u001b[1mexecute_request: {'header': {'date': datetime.datetime(2025, 4, 6, 4, 1, 47, 351000, tzinfo=tzutc()), 'msg_id': 'e1ed1a28-453f-4b96-bd84-dffc3d4b119a', 'msg_type': 'execute_request', 'session': '29532250-7308-4a27-af03-f2d6ae80b81b', 'username': '265dd8f7-95c6-4d6e-b824-8e8a697a2ec8', 'version': '5.2'}, 'msg_id': 'e1ed1a28-453f-4b96-bd84-dffc3d4b119a', 'msg_type': 'execute_request', 'parent_header': {}, 'metadata': {'cellId': 'vscode-notebook-cell:/Users/phuc.buidang/Documents/Learn/Projects/basics_ds_project/research/3_data_transformation.ipynb#X13sZmlsZQ%3D%3D'}, 'content': {'silent': False, 'store_history': True, 'user_expressions': {}, 'allow_stdin': True, 'stop_on_error': False, 'code': 'with open(Path(\"artifacts/data_validation/status.txt\"), \"r\") as f:\\n    status = f.read().split(\" \")[-1]\\n    print(status)'}, 'buffers': []}\u001b[0m\n"
     ]
    },
    {
     "name": "stdout",
     "output_type": "stream",
     "text": [
      "True\n"
     ]
    },
    {
     "name": "stderr",
     "output_type": "stream",
     "text": [
      "\u001b[32m2025-04-06 11:01:47.375\u001b[0m | \u001b[34m\u001b[1mDEBUG   \u001b[0m | \u001b[36mipykernel.kernelbase\u001b[0m:\u001b[36mexecute_request\u001b[0m:\u001b[36m802\u001b[0m - \u001b[34m\u001b[1m{'header': {'msg_id': 'fa565d19-72ec36b6d0735eb02a1cd860_24786_104', 'msg_type': 'execute_reply', 'username': 'phuc.buidang', 'session': 'fa565d19-72ec36b6d0735eb02a1cd860', 'date': datetime.datetime(2025, 4, 6, 4, 1, 47, 374415, tzinfo=datetime.timezone.utc), 'version': '5.3'}, 'msg_id': 'fa565d19-72ec36b6d0735eb02a1cd860_24786_104', 'msg_type': 'execute_reply', 'parent_header': {'date': datetime.datetime(2025, 4, 6, 4, 1, 47, 351000, tzinfo=tzutc()), 'msg_id': 'e1ed1a28-453f-4b96-bd84-dffc3d4b119a', 'msg_type': 'execute_request', 'session': '29532250-7308-4a27-af03-f2d6ae80b81b', 'username': '265dd8f7-95c6-4d6e-b824-8e8a697a2ec8', 'version': '5.2'}, 'content': {'status': 'ok', 'execution_count': 11, 'user_expressions': {}, 'payload': []}, 'metadata': {'started': datetime.datetime(2025, 4, 6, 4, 1, 47, 353307, tzinfo=datetime.timezone.utc), 'dependencies_met': True, 'engine': '3b79feca-3d2a-4965-802b-c2fb39c733bb', 'status': 'ok'}, 'tracker': <zmq.sugar.tracker.MessageTracker object at 0x103b267f0>}\u001b[0m\n"
     ]
    }
   ],
   "source": [
    "with open(Path(\"artifacts/data_validation/status.txt\"), \"r\") as f:\n",
    "    status = f.read().split(\" \")[-1]\n",
    "    print(status)"
   ]
  },
  {
   "cell_type": "code",
   "execution_count": null,
   "metadata": {},
   "outputs": [],
   "source": []
  }
 ],
 "metadata": {
  "kernelspec": {
   "display_name": "mlops",
   "language": "python",
   "name": "python3"
  },
  "language_info": {
   "codemirror_mode": {
    "name": "ipython",
    "version": 3
   },
   "file_extension": ".py",
   "mimetype": "text/x-python",
   "name": "python",
   "nbconvert_exporter": "python",
   "pygments_lexer": "ipython3",
   "version": "3.9.21"
  }
 },
 "nbformat": 4,
 "nbformat_minor": 2
}
